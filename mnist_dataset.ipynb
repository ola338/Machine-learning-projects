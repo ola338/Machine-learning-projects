{
  "cells": [
    {
      "cell_type": "markdown",
      "metadata": {
        "id": "view-in-github",
        "colab_type": "text"
      },
      "source": [
        "<a href=\"https://colab.research.google.com/github/ola338/Machine-learning-projects/blob/main/mnist_dataset.ipynb\" target=\"_parent\"><img src=\"https://colab.research.google.com/assets/colab-badge.svg\" alt=\"Open In Colab\"/></a>"
      ]
    },
    {
      "cell_type": "code",
      "execution_count": 1,
      "metadata": {
        "id": "6brvkQE3enfF"
      },
      "outputs": [],
      "source": [
        "import os\n",
        "import numpy as np\n",
        "import sklearn\n",
        "import matplotlib as mpl\n",
        "import matplotlib.pyplot as plt"
      ]
    },
    {
      "cell_type": "code",
      "execution_count": 2,
      "metadata": {
        "colab": {
          "base_uri": "https://localhost:8080/"
        },
        "id": "rDnEeU6-enfM",
        "outputId": "3bf115c8-47ef-4cd8-b048-8c19996ef625"
      },
      "outputs": [
        {
          "output_type": "execute_result",
          "data": {
            "text/plain": [
              "dict_keys(['data', 'target', 'frame', 'categories', 'feature_names', 'target_names', 'DESCR', 'details', 'url'])"
            ]
          },
          "metadata": {},
          "execution_count": 2
        }
      ],
      "source": [
        "from sklearn.datasets import fetch_openml\n",
        "mnist = fetch_openml('mnist_784', version=1, as_frame=False)\n",
        "mnist.keys()"
      ]
    },
    {
      "cell_type": "code",
      "execution_count": 4,
      "metadata": {
        "colab": {
          "base_uri": "https://localhost:8080/"
        },
        "id": "j9FeI6hlenfP",
        "outputId": "6f279e66-53e0-41fc-ac48-f9e42809cd4e"
      },
      "outputs": [
        {
          "output_type": "stream",
          "name": "stdout",
          "text": [
            "(70000, 784) (70000,)\n"
          ]
        }
      ],
      "source": [
        "X, y = mnist['data'], mnist['target']\n",
        "print(X.shape, y.shape)"
      ]
    },
    {
      "cell_type": "code",
      "execution_count": 5,
      "metadata": {
        "colab": {
          "base_uri": "https://localhost:8080/",
          "height": 266
        },
        "id": "XDzKtEZsenfQ",
        "outputId": "c1870a6d-b177-4e3b-e610-cea8874dcbf7"
      },
      "outputs": [
        {
          "output_type": "execute_result",
          "data": {
            "text/plain": [
              "(-0.5, 27.5, 27.5, -0.5)"
            ]
          },
          "metadata": {},
          "execution_count": 5
        },
        {
          "output_type": "display_data",
          "data": {
            "image/png": "[encoded data removed]",
            "text/plain": [
              "<Figure size 432x288 with 1 Axes>"
            ]
          },
          "metadata": {
            "needs_background": "light"
          }
        }
      ],
      "source": [
        "digit = X[0]\n",
        "digit_image = digit.reshape(28,28)\n",
        "plt.imshow(digit_image, cmap=mpl.cm.binary)\n",
        "plt.axis('off')"
      ]
    },
    {
      "cell_type": "code",
      "execution_count": 6,
      "metadata": {
        "id": "5FDQ8ZmsenfR"
      },
      "outputs": [],
      "source": [
        "from sklearn.model_selection import train_test_split\n",
        "\n",
        "X_train, X_test, y_train, y_test = train_test_split(X, y, test_size=0.2, random_state=42, stratify=y)"
      ]
    },
    {
      "cell_type": "code",
      "execution_count": 7,
      "metadata": {
        "colab": {
          "base_uri": "https://localhost:8080/"
        },
        "id": "yS-_nvWmnxjm",
        "outputId": "c062f0ed-bc40-4bbd-e38b-6736858196fe"
      },
      "outputs": [
        {
          "output_type": "stream",
          "name": "stdout",
          "text": [
            "Train set shape:  56000 \n",
            "Test set shape:  14000\n"
          ]
        }
      ],
      "source": [
        "print('Train set shape: ', X_train.shape[0],\n",
        "      '\\nTest set shape: ', X_test.shape[0]\n",
        "      )"
      ]
    },
    {
      "cell_type": "code",
      "execution_count": 8,
      "metadata": {
        "colab": {
          "base_uri": "https://localhost:8080/"
        },
        "id": "-a9oZbv8enfS",
        "outputId": "9aa04596-c68a-4ed5-e096-5cf973df75a5"
      },
      "outputs": [
        {
          "output_type": "execute_result",
          "data": {
            "text/plain": [
              "KNeighborsClassifier()"
            ]
          },
          "metadata": {},
          "execution_count": 8
        }
      ],
      "source": [
        "from sklearn.neighbors import KNeighborsClassifier\n",
        "KNmodel = KNeighborsClassifier(n_neighbors=5)\n",
        "KNmodel.fit(X_train, y_train)"
      ]
    },
    {
      "cell_type": "code",
      "execution_count": 10,
      "metadata": {
        "colab": {
          "base_uri": "https://localhost:8080/"
        },
        "id": "vA53KB_ienfU",
        "outputId": "855e4d7c-612a-4982-f951-365ba00e1ac6"
      },
      "outputs": [
        {
          "output_type": "execute_result",
          "data": {
            "text/plain": [
              "array([0.93801896, 0.9394118 , 0.94208722])"
            ]
          },
          "metadata": {},
          "execution_count": 10
        }
      ],
      "source": [
        "from sklearn.model_selection import cross_val_score\n",
        "from sklearn.preprocessing import StandardScaler\n",
        "\n",
        "scaler = StandardScaler()\n",
        "X_train_scaled = scaler.fit_transform(X_train)\n",
        "scores = cross_val_score(KNmodel, X_train_scaled, y_train, scoring=\"accuracy\", cv=3)\n",
        "scores"
      ]
    },
    {
      "cell_type": "code",
      "execution_count": 11,
      "metadata": {
        "colab": {
          "base_uri": "https://localhost:8080/"
        },
        "id": "wOjaInrwqW4B",
        "outputId": "bf0a38c7-f003-495c-a09d-488eb2e4deb8"
      },
      "outputs": [
        {
          "output_type": "execute_result",
          "data": {
            "text/plain": [
              "array([0.96614346, 0.96823271, 0.96903461])"
            ]
          },
          "metadata": {},
          "execution_count": 11
        }
      ],
      "source": [
        "from sklearn.preprocessing import MinMaxScaler\n",
        "\n",
        "min_max_scaler = MinMaxScaler()\n",
        "X_train_min_max_scaled = min_max_scaler.fit_transform(X_train)\n",
        "scores = cross_val_score(KNmodel, X_train_min_max_scaled, y_train, scoring=\"accuracy\", cv=3)\n",
        "scores"
      ]
    },
    {
      "cell_type": "code",
      "execution_count": 14,
      "metadata": {
        "colab": {
          "base_uri": "https://localhost:8080/"
        },
        "id": "dCSuTYpnrwqx",
        "outputId": "6c84521a-afd6-45e9-fbe7-e833492ae555"
      },
      "outputs": [
        {
          "output_type": "execute_result",
          "data": {
            "text/plain": [
              "GridSearchCV(cv=3, estimator=KNeighborsClassifier(),\n",
              "             param_grid=[{'n_neighbors': [3, 5, 7]}], return_train_score=True,\n",
              "             scoring='f1_weighted')"
            ]
          },
          "metadata": {},
          "execution_count": 14
        }
      ],
      "source": [
        "from sklearn.model_selection import GridSearchCV\n",
        "from sklearn.metrics import f1_score\n",
        "\n",
        "param_grid = [\n",
        "    {'n_neighbors': [3, 5, 7]\n",
        "     #'weights': ['distance', 'uniform'], \n",
        "     #'p': [1, 2]\n",
        "     }\n",
        "    ]\n",
        "\n",
        "grid_search = GridSearchCV(KNmodel, param_grid, cv=3, \n",
        "                           scoring='f1_weighted', \n",
        "                           return_train_score=True)\n",
        "\n",
        "grid_search.fit(X_train_min_max_scaled, y_train)"
      ]
    },
    {
      "cell_type": "code",
      "execution_count": 15,
      "metadata": {
        "id": "wdEXwozl30Bw",
        "colab": {
          "base_uri": "https://localhost:8080/"
        },
        "outputId": "000ceee1-ea63-4cfd-f089-08e8ace2fa38"
      },
      "outputs": [
        {
          "output_type": "stream",
          "name": "stdout",
          "text": [
            "f1-score 0.967 {'n_neighbors': 3}\n",
            "f1-score 0.968 {'n_neighbors': 5}\n",
            "f1-score 0.967 {'n_neighbors': 7}\n"
          ]
        },
        {
          "output_type": "execute_result",
          "data": {
            "text/plain": [
              "KNeighborsClassifier()"
            ]
          },
          "metadata": {},
          "execution_count": 15
        }
      ],
      "source": [
        "cv_results = grid_search.cv_results_\n",
        "\n",
        "for mean_test_score, params in zip(cv_results[\"mean_test_score\"], cv_results[\"params\"]):\n",
        "    print('f1-score %.3f' % mean_test_score, params)\n",
        "\n",
        "best_KNmodel = grid_search.best_estimator_\n",
        "best_KNmodel"
      ]
    },
    {
      "cell_type": "code",
      "execution_count": 16,
      "metadata": {
        "id": "q7oU4xRb5a-_",
        "colab": {
          "base_uri": "https://localhost:8080/"
        },
        "outputId": "4d4fb83d-75cd-418c-895e-aac684b2ad4d"
      },
      "outputs": [
        {
          "output_type": "execute_result",
          "data": {
            "text/plain": [
              "array([[1375,    1,    0,    0,    0,    1,    3,    0,    0,    1],\n",
              "       [   0, 1564,    5,    1,    1,    0,    1,    3,    0,    0],\n",
              "       [  12,   14, 1335,    4,    2,    0,    4,   24,    3,    0],\n",
              "       [   1,    2,    7, 1386,    0,   12,    2,    9,    6,    3],\n",
              "       [   2,   15,    1,    0, 1306,    0,    5,    1,    0,   35],\n",
              "       [   6,    3,    1,    7,    1, 1217,   17,    2,    3,    6],\n",
              "       [   7,    3,    0,    0,    1,    8, 1355,    0,    1,    0],\n",
              "       [   1,   17,    3,    0,    2,    1,    0, 1423,    0,   12],\n",
              "       [   8,   11,    1,   22,    4,   29,    4,    4, 1276,    6],\n",
              "       [   2,    8,    1,   13,   11,    1,    1,   13,    2, 1339]])"
            ]
          },
          "metadata": {},
          "execution_count": 16
        }
      ],
      "source": [
        "from sklearn.metrics import confusion_matrix, classification_report\n",
        "\n",
        "X_test_scaled = min_max_scaler.fit_transform(X_test)\n",
        "y_pred = best_KNmodel.predict(X_test_scaled)\n",
        "\n",
        "conf_mx = confusion_matrix(y_test, y_pred)\n",
        "conf_mx"
      ]
    }
  ],
  "metadata": {
    "colab": {
      "name": "mnist_dataset.ipynb",
      "provenance": [],
      "include_colab_link": true
    },
    "interpreter": {
      "hash": "d2716363dd0cb2b5e07ca35c312ca5c69ce89361e4f2c7338df7937750e0bba9"
    },
    "kernelspec": {
      "display_name": "Python 3.6.13 32-bit ('firstProject': conda)",
      "language": "python",
      "name": "python3"
    },
    "language_info": {
      "codemirror_mode": {
        "name": "ipython",
        "version": 3
      },
      "file_extension": ".py",
      "mimetype": "text/x-python",
      "name": "python",
      "nbconvert_exporter": "python",
      "pygments_lexer": "ipython3",
      "version": "3.7.1"
    }
  },
  "nbformat": 4,
  "nbformat_minor": 0
}