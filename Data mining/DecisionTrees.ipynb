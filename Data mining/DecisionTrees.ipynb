{
  "nbformat": 4,
  "nbformat_minor": 0,
  "metadata": {
    "colab": {
      "name": "lab2_DecisionTrees.ipynb",
      "provenance": [],
      "collapsed_sections": []
    },
    "kernelspec": {
      "name": "python3",
      "display_name": "Python 3"
    },
    "language_info": {
      "name": "python"
    }
  },
  "cells": [
    {
      "cell_type": "code",
      "execution_count": null,
      "metadata": {
        "id": "9VOVHND5UFUK"
      },
      "outputs": [],
      "source": [
        "import pandas as pd\n",
        "import numpy as np \n",
        "import matplotlib.pyplot as plt\n",
        "from sklearn.decomposition import PCA"
      ]
    },
    {
      "cell_type": "code",
      "source": [
        "!wget http://home.agh.edu.pl/~czech/datasets/ed-titanic-training.csv \n",
        "!wget http://home.agh.edu.pl/~czech/datasets/ed-titanic-test.csv\n",
        "!wget http://home.agh.edu.pl/~czech/vis-datasets/misc/nyt-frame.csv"
      ],
      "metadata": {
        "id": "RoaWnXmcUUDw"
      },
      "execution_count": null,
      "outputs": []
    },
    {
      "cell_type": "markdown",
      "source": [
        "**zadanie 1**"
      ],
      "metadata": {
        "id": "WT9A6hRKdJEY"
      }
    },
    {
      "cell_type": "code",
      "source": [
        "import pandas as pd\n",
        "train = pd.read_csv('./ed-titanic-training.csv')\n",
        "test = pd.read_csv('./ed-titanic-test.csv')\n",
        "train.head()"
      ],
      "metadata": {
        "id": "4-fRXMDwUe2F",
        "colab": {
          "base_uri": "https://localhost:8080/",
          "height": 206
        },
        "outputId": "ede02c0b-e9d4-4a53-d221-b5672ef1a69f"
      },
      "execution_count": null,
      "outputs": [
        {
          "output_type": "execute_result",
          "data": {
            "text/plain": [
              "   Unnamed: 0  Survived  Pclass  Sex  Age  Parch  Fare  Embarked  Has_Cabin  \\\n",
              "0           0         0       3    1    1      0     0         0          0   \n",
              "1           1         1       1    0    2      0     3         1          1   \n",
              "2           2         1       3    0    1      0     1         0          0   \n",
              "3           3         1       1    0    2      0     3         0          1   \n",
              "4           4         0       3    1    2      0     1         0          0   \n",
              "\n",
              "   FamilySize  IsAlone  Title  \n",
              "0           2        0      1  \n",
              "1           2        0      3  \n",
              "2           1        1      4  \n",
              "3           2        0      3  \n",
              "4           1        1      1  "
            ],
            "text/html": [
              "\n",
              "  <div id=\"df-44f83b40-f734-4071-ac09-d61090330737\">\n",
              "    <div class=\"colab-df-container\">\n",
              "      <div>\n",
              "<style scoped>\n",
              "    .dataframe tbody tr th:only-of-type {\n",
              "        vertical-align: middle;\n",
              "    }\n",
              "\n",
              "    .dataframe tbody tr th {\n",
              "        vertical-align: top;\n",
              "    }\n",
              "\n",
              "    .dataframe thead th {\n",
              "        text-align: right;\n",
              "    }\n",
              "</style>\n",
              "<table border=\"1\" class=\"dataframe\">\n",
              "  <thead>\n",
              "    <tr style=\"text-align: right;\">\n",
              "      <th></th>\n",
              "      <th>Unnamed: 0</th>\n",
              "      <th>Survived</th>\n",
              "      <th>Pclass</th>\n",
              "      <th>Sex</th>\n",
              "      <th>Age</th>\n",
              "      <th>Parch</th>\n",
              "      <th>Fare</th>\n",
              "      <th>Embarked</th>\n",
              "      <th>Has_Cabin</th>\n",
              "      <th>FamilySize</th>\n",
              "      <th>IsAlone</th>\n",
              "      <th>Title</th>\n",
              "    </tr>\n",
              "  </thead>\n",
              "  <tbody>\n",
              "    <tr>\n",
              "      <th>0</th>\n",
              "      <td>0</td>\n",
              "      <td>0</td>\n",
              "      <td>3</td>\n",
              "      <td>1</td>\n",
              "      <td>1</td>\n",
              "      <td>0</td>\n",
              "      <td>0</td>\n",
              "      <td>0</td>\n",
              "      <td>0</td>\n",
              "      <td>2</td>\n",
              "      <td>0</td>\n",
              "      <td>1</td>\n",
              "    </tr>\n",
              "    <tr>\n",
              "      <th>1</th>\n",
              "      <td>1</td>\n",
              "      <td>1</td>\n",
              "      <td>1</td>\n",
              "      <td>0</td>\n",
              "      <td>2</td>\n",
              "      <td>0</td>\n",
              "      <td>3</td>\n",
              "      <td>1</td>\n",
              "      <td>1</td>\n",
              "      <td>2</td>\n",
              "      <td>0</td>\n",
              "      <td>3</td>\n",
              "    </tr>\n",
              "    <tr>\n",
              "      <th>2</th>\n",
              "      <td>2</td>\n",
              "      <td>1</td>\n",
              "      <td>3</td>\n",
              "      <td>0</td>\n",
              "      <td>1</td>\n",
              "      <td>0</td>\n",
              "      <td>1</td>\n",
              "      <td>0</td>\n",
              "      <td>0</td>\n",
              "      <td>1</td>\n",
              "      <td>1</td>\n",
              "      <td>4</td>\n",
              "    </tr>\n",
              "    <tr>\n",
              "      <th>3</th>\n",
              "      <td>3</td>\n",
              "      <td>1</td>\n",
              "      <td>1</td>\n",
              "      <td>0</td>\n",
              "      <td>2</td>\n",
              "      <td>0</td>\n",
              "      <td>3</td>\n",
              "      <td>0</td>\n",
              "      <td>1</td>\n",
              "      <td>2</td>\n",
              "      <td>0</td>\n",
              "      <td>3</td>\n",
              "    </tr>\n",
              "    <tr>\n",
              "      <th>4</th>\n",
              "      <td>4</td>\n",
              "      <td>0</td>\n",
              "      <td>3</td>\n",
              "      <td>1</td>\n",
              "      <td>2</td>\n",
              "      <td>0</td>\n",
              "      <td>1</td>\n",
              "      <td>0</td>\n",
              "      <td>0</td>\n",
              "      <td>1</td>\n",
              "      <td>1</td>\n",
              "      <td>1</td>\n",
              "    </tr>\n",
              "  </tbody>\n",
              "</table>\n",
              "</div>\n",
              "      <button class=\"colab-df-convert\" onclick=\"convertToInteractive('df-44f83b40-f734-4071-ac09-d61090330737')\"\n",
              "              title=\"Convert this dataframe to an interactive table.\"\n",
              "              style=\"display:none;\">\n",
              "        \n",
              "  <svg xmlns=\"http://www.w3.org/2000/svg\" height=\"24px\"viewBox=\"0 0 24 24\"\n",
              "       width=\"24px\">\n",
              "    <path d=\"M0 0h24v24H0V0z\" fill=\"none\"/>\n",
              "    <path d=\"M18.56 5.44l.94 2.06.94-2.06 2.06-.94-2.06-.94-.94-2.06-.94 2.06-2.06.94zm-11 1L8.5 8.5l.94-2.06 2.06-.94-2.06-.94L8.5 2.5l-.94 2.06-2.06.94zm10 10l.94 2.06.94-2.06 2.06-.94-2.06-.94-.94-2.06-.94 2.06-2.06.94z\"/><path d=\"M17.41 7.96l-1.37-1.37c-.4-.4-.92-.59-1.43-.59-.52 0-1.04.2-1.43.59L10.3 9.45l-7.72 7.72c-.78.78-.78 2.05 0 2.83L4 21.41c.39.39.9.59 1.41.59.51 0 1.02-.2 1.41-.59l7.78-7.78 2.81-2.81c.8-.78.8-2.07 0-2.86zM5.41 20L4 18.59l7.72-7.72 1.47 1.35L5.41 20z\"/>\n",
              "  </svg>\n",
              "      </button>\n",
              "      \n",
              "  <style>\n",
              "    .colab-df-container {\n",
              "      display:flex;\n",
              "      flex-wrap:wrap;\n",
              "      gap: 12px;\n",
              "    }\n",
              "\n",
              "    .colab-df-convert {\n",
              "      background-color: #E8F0FE;\n",
              "      border: none;\n",
              "      border-radius: 50%;\n",
              "      cursor: pointer;\n",
              "      display: none;\n",
              "      fill: #1967D2;\n",
              "      height: 32px;\n",
              "      padding: 0 0 0 0;\n",
              "      width: 32px;\n",
              "    }\n",
              "\n",
              "    .colab-df-convert:hover {\n",
              "      background-color: #E2EBFA;\n",
              "      box-shadow: 0px 1px 2px rgba(60, 64, 67, 0.3), 0px 1px 3px 1px rgba(60, 64, 67, 0.15);\n",
              "      fill: #174EA6;\n",
              "    }\n",
              "\n",
              "    [theme=dark] .colab-df-convert {\n",
              "      background-color: #3B4455;\n",
              "      fill: #D2E3FC;\n",
              "    }\n",
              "\n",
              "    [theme=dark] .colab-df-convert:hover {\n",
              "      background-color: #434B5C;\n",
              "      box-shadow: 0px 1px 3px 1px rgba(0, 0, 0, 0.15);\n",
              "      filter: drop-shadow(0px 1px 2px rgba(0, 0, 0, 0.3));\n",
              "      fill: #FFFFFF;\n",
              "    }\n",
              "  </style>\n",
              "\n",
              "      <script>\n",
              "        const buttonEl =\n",
              "          document.querySelector('#df-44f83b40-f734-4071-ac09-d61090330737 button.colab-df-convert');\n",
              "        buttonEl.style.display =\n",
              "          google.colab.kernel.accessAllowed ? 'block' : 'none';\n",
              "\n",
              "        async function convertToInteractive(key) {\n",
              "          const element = document.querySelector('#df-44f83b40-f734-4071-ac09-d61090330737');\n",
              "          const dataTable =\n",
              "            await google.colab.kernel.invokeFunction('convertToInteractive',\n",
              "                                                     [key], {});\n",
              "          if (!dataTable) return;\n",
              "\n",
              "          const docLinkHtml = 'Like what you see? Visit the ' +\n",
              "            '<a target=\"_blank\" href=https://colab.research.google.com/notebooks/data_table.ipynb>data table notebook</a>'\n",
              "            + ' to learn more about interactive tables.';\n",
              "          element.innerHTML = '';\n",
              "          dataTable['output_type'] = 'display_data';\n",
              "          await google.colab.output.renderOutput(dataTable, element);\n",
              "          const docLink = document.createElement('div');\n",
              "          docLink.innerHTML = docLinkHtml;\n",
              "          element.appendChild(docLink);\n",
              "        }\n",
              "      </script>\n",
              "    </div>\n",
              "  </div>\n",
              "  "
            ]
          },
          "metadata": {},
          "execution_count": 3
        }
      ]
    },
    {
      "cell_type": "code",
      "source": [
        "import matplotlib.pyplot as plt\n",
        "import seaborn as sns\n",
        "colormap = plt.cm.viridis\n",
        "plt.figure(figsize=(12,12))\n",
        "plt.title('Pearson Correlation of Features', y=1.05, size=15)\n",
        "sns.heatmap(train.astype(float).corr(),linewidths=0.1,vmax=1.0,\n",
        "square=True, cmap=colormap, linecolor='white', annot=True)"
      ],
      "metadata": {
        "id": "1eXPc8qPUfXe",
        "colab": {
          "base_uri": "https://localhost:8080/",
          "height": 714
        },
        "outputId": "9123ac50-75d3-4ca3-cf08-af8f1daf80d4"
      },
      "execution_count": null,
      "outputs": [
        {
          "output_type": "execute_result",
          "data": {
            "text/plain": [
              "<matplotlib.axes._subplots.AxesSubplot at 0x7f3ef6075bd0>"
            ]
          },
          "metadata": {},
          "execution_count": 4
        },
        {
          "output_type": "display_data",
          "data": {
            "text/plain": [
              "<Figure size 864x864 with 2 Axes>"
            ],
            "image/png": "[encoded data removed]"
          },
          "metadata": {
            "needs_background": "light"
          }
        }
      ]
    },
    {
      "cell_type": "markdown",
      "source": [
        "Najbardziej skorelowane z etykietą przeżycia są cechy: Sex, Title, Pclass, Has_Cabin oraz Fare.\n",
        "\n",
        "Wszystkie cechy są w równym stopniu skorelowane ze sobą.\n",
        "\n"
      ],
      "metadata": {
        "id": "ZpijshiQ58YF"
      }
    },
    {
      "cell_type": "code",
      "source": [
        "titles = list(np.unique(train['Title']))\n",
        "print('Survival rate:')\n",
        "for title in titles:\n",
        "  example = train['Title'] == title\n",
        "  w = np.where(example, train['Survived'], np.nan)\n",
        "  probabilities = w[~np.isnan(w)]\n",
        "  print(f\"  title {title}: {np.mean(probabilities)}\")"
      ],
      "metadata": {
        "colab": {
          "base_uri": "https://localhost:8080/"
        },
        "id": "5-42l4bGWh7P",
        "outputId": "f6fa156d-0c99-4478-aba0-044ce8b34ca5"
      },
      "execution_count": null,
      "outputs": [
        {
          "output_type": "stream",
          "name": "stdout",
          "text": [
            "Survival rate:\n",
            "  title 1: 0.15667311411992263\n",
            "  title 2: 0.575\n",
            "  title 3: 0.7936507936507936\n",
            "  title 4: 0.7027027027027027\n",
            "  title 5: 0.34782608695652173\n"
          ]
        }
      ]
    },
    {
      "cell_type": "code",
      "source": [
        "x_train = train.iloc[:, 2:]\n",
        "y_train = train.iloc[:, 1]\n",
        "x_test = test.iloc[:, 1:]\n",
        "\n",
        "x_train.shape"
      ],
      "metadata": {
        "colab": {
          "base_uri": "https://localhost:8080/"
        },
        "id": "958IFzEyepA7",
        "outputId": "ca15cf5a-b131-4472-c691-ae47225e04a0"
      },
      "execution_count": null,
      "outputs": [
        {
          "output_type": "execute_result",
          "data": {
            "text/plain": [
              "(891, 10)"
            ]
          },
          "metadata": {},
          "execution_count": 6
        }
      ]
    },
    {
      "cell_type": "code",
      "source": [
        "from sklearn import tree\n",
        "from sklearn.model_selection import GridSearchCV\n",
        "\n",
        "params = {'max_depth': [i for i in range(1,11)],\n",
        "          'criterion': ['gini', 'entropy']}\n",
        "\n",
        "decision_tree = tree.DecisionTreeClassifier()\n",
        "\n",
        "grid_search = GridSearchCV(decision_tree, param_grid=params, cv=10, scoring='accuracy')\n",
        "grid_search.fit(x_train, y_train)"
      ],
      "metadata": {
        "colab": {
          "base_uri": "https://localhost:8080/"
        },
        "id": "nKQxnjNrgWTF",
        "outputId": "6cf7e327-8f9f-4cf8-913f-b3ee4f3fde9a"
      },
      "execution_count": null,
      "outputs": [
        {
          "output_type": "execute_result",
          "data": {
            "text/plain": [
              "GridSearchCV(cv=10, estimator=DecisionTreeClassifier(),\n",
              "             param_grid={'criterion': ['gini', 'entropy'],\n",
              "                         'max_depth': [1, 2, 3, 4, 5, 6, 7, 8, 9, 10]},\n",
              "             scoring='accuracy')"
            ]
          },
          "metadata": {},
          "execution_count": 7
        }
      ]
    },
    {
      "cell_type": "code",
      "source": [
        "results = grid_search.cv_results_\n",
        "results.keys()"
      ],
      "metadata": {
        "colab": {
          "base_uri": "https://localhost:8080/"
        },
        "id": "ui5wmRf5jdkR",
        "outputId": "b3c40f52-3a2b-4ae2-e86e-e6a8147f521c"
      },
      "execution_count": null,
      "outputs": [
        {
          "output_type": "execute_result",
          "data": {
            "text/plain": [
              "dict_keys(['mean_fit_time', 'std_fit_time', 'mean_score_time', 'std_score_time', 'param_criterion', 'param_max_depth', 'params', 'split0_test_score', 'split1_test_score', 'split2_test_score', 'split3_test_score', 'split4_test_score', 'split5_test_score', 'split6_test_score', 'split7_test_score', 'split8_test_score', 'split9_test_score', 'mean_test_score', 'std_test_score', 'rank_test_score'])"
            ]
          },
          "metadata": {},
          "execution_count": 8
        }
      ]
    },
    {
      "cell_type": "code",
      "source": [
        "for mean_test_score, params in zip(results['mean_test_score'], results['params']):\n",
        "  print(mean_test_score, params)"
      ],
      "metadata": {
        "id": "f41nh3fvjhQK",
        "colab": {
          "base_uri": "https://localhost:8080/"
        },
        "outputId": "66fe85dc-7b7c-4658-c441-e4db4affeb3e"
      },
      "execution_count": null,
      "outputs": [
        {
          "output_type": "stream",
          "name": "stdout",
          "text": [
            "0.7822846441947565 {'criterion': 'gini', 'max_depth': 1}\n",
            "0.7912983770287141 {'criterion': 'gini', 'max_depth': 2}\n",
            "0.8305243445692885 {'criterion': 'gini', 'max_depth': 3}\n",
            "0.8125468164794007 {'criterion': 'gini', 'max_depth': 4}\n",
            "0.8114481897627964 {'criterion': 'gini', 'max_depth': 5}\n",
            "0.8081523096129837 {'criterion': 'gini', 'max_depth': 6}\n",
            "0.8148564294631709 {'criterion': 'gini', 'max_depth': 7}\n",
            "0.8126466916354558 {'criterion': 'gini', 'max_depth': 8}\n",
            "0.8249687890137329 {'criterion': 'gini', 'max_depth': 9}\n",
            "0.8227590511860174 {'criterion': 'gini', 'max_depth': 10}\n",
            "0.7822846441947565 {'criterion': 'entropy', 'max_depth': 1}\n",
            "0.7890511860174781 {'criterion': 'entropy', 'max_depth': 2}\n",
            "0.8316479400749064 {'criterion': 'entropy', 'max_depth': 3}\n",
            "0.8215355805243446 {'criterion': 'entropy', 'max_depth': 4}\n",
            "0.8271660424469414 {'criterion': 'entropy', 'max_depth': 5}\n",
            "0.817103620474407 {'criterion': 'entropy', 'max_depth': 6}\n",
            "0.8092259675405742 {'criterion': 'entropy', 'max_depth': 7}\n",
            "0.809250936329588 {'criterion': 'entropy', 'max_depth': 8}\n",
            "0.8226966292134831 {'criterion': 'entropy', 'max_depth': 9}\n",
            "0.8103995006242197 {'criterion': 'entropy', 'max_depth': 10}\n"
          ]
        }
      ]
    },
    {
      "cell_type": "code",
      "source": [
        "print(f\"best params: {grid_search.best_params_}\")\n",
        "print(f\"best accuracy: {grid_search.best_score_}\")"
      ],
      "metadata": {
        "colab": {
          "base_uri": "https://localhost:8080/"
        },
        "id": "5bMCFFMSkbMY",
        "outputId": "db489b72-50cc-471d-e902-bd7a16bd5b4d"
      },
      "execution_count": null,
      "outputs": [
        {
          "output_type": "stream",
          "name": "stdout",
          "text": [
            "best params: {'criterion': 'entropy', 'max_depth': 3}\n",
            "best accuracy: 0.8316479400749064\n"
          ]
        }
      ]
    },
    {
      "cell_type": "code",
      "source": [
        "from sklearn import tree\n",
        "decision_tree = tree.DecisionTreeClassifier(max_depth = 3, criterion='entropy')\n",
        "decision_tree.fit(x_train, y_train)"
      ],
      "metadata": {
        "colab": {
          "base_uri": "https://localhost:8080/"
        },
        "id": "3GLLrJPHZpWz",
        "outputId": "fc3dd716-8802-44a4-e598-ff5bcc99be5a"
      },
      "execution_count": null,
      "outputs": [
        {
          "output_type": "execute_result",
          "data": {
            "text/plain": [
              "DecisionTreeClassifier(criterion='entropy', max_depth=3)"
            ]
          },
          "metadata": {},
          "execution_count": 11
        }
      ]
    },
    {
      "cell_type": "code",
      "source": [
        "from numpy import savetxt\n",
        "prediction = decision_tree.predict(x_test)\n",
        "savetxt('prediction.csv', prediction, delimiter=',')"
      ],
      "metadata": {
        "id": "y1CDZlKg8IMr"
      },
      "execution_count": null,
      "outputs": []
    },
    {
      "cell_type": "code",
      "source": [
        "from sklearn.tree import export_graphviz\n",
        "export_graphviz(decision_tree, out_file=\"tree.dot\", class_names=[\"Died\", \"Survived\"], feature_names=x_train.columns, filled=True)\n",
        "\n",
        "import graphviz\n",
        "with open(\"tree.dot\") as f:\n",
        "    dot_graph = f.read()\n",
        "graphviz.Source(dot_graph)"
      ],
      "metadata": {
        "id": "o9R1nKXGk1mE",
        "colab": {
          "base_uri": "https://localhost:8080/",
          "height": 599
        },
        "outputId": "e8a15af4-5144-4283-d699-2a451bb152d0"
      },
      "execution_count": null,
      "outputs": [
        {
          "output_type": "execute_result",
          "data": {
            "text/plain": [
              "<graphviz.files.Source at 0x7f3ef108ef90>"
            ],
            "image/svg+xml": "<?xml version=\"1.0\" encoding=\"UTF-8\" standalone=\"no\"?>\n<!DOCTYPE svg PUBLIC \"-//W3C//DTD SVG 1.1//EN\"\n \"http://www.w3.org/Graphics/SVG/1.1/DTD/svg11.dtd\">\n<!-- Generated by graphviz version 2.40.1 (20161225.0304)\n -->\n<!-- Title: Tree Pages: 1 -->\n<svg width=\"1069pt\" height=\"433pt\"\n viewBox=\"0.00 0.00 1069.00 433.00\" xmlns=\"http://www.w3.org/2000/svg\" xmlns:xlink=\"http://www.w3.org/1999/xlink\">\n<g id=\"graph0\" class=\"graph\" transform=\"scale(1 1) rotate(0) translate(4 429)\">\n<title>Tree</title>\n<polygon fill=\"#ffffff\" stroke=\"transparent\" points=\"-4,4 -4,-429 1065,-429 1065,4 -4,4\"/>\n<!-- 0 -->\n<g id=\"node1\" class=\"node\">\n<title>0</title>\n<polygon fill=\"#f5cfb4\" stroke=\"#000000\" points=\"575,-425 443,-425 443,-342 575,-342 575,-425\"/>\n<text text-anchor=\"middle\" x=\"509\" y=\"-409.8\" font-family=\"Helvetica,sans-Serif\" font-size=\"14.00\" fill=\"#000000\">Title &lt;= 1.5</text>\n<text text-anchor=\"middle\" x=\"509\" y=\"-394.8\" font-family=\"Helvetica,sans-Serif\" font-size=\"14.00\" fill=\"#000000\">entropy = 0.961</text>\n<text text-anchor=\"middle\" x=\"509\" y=\"-379.8\" font-family=\"Helvetica,sans-Serif\" font-size=\"14.00\" fill=\"#000000\">samples = 891</text>\n<text text-anchor=\"middle\" x=\"509\" y=\"-364.8\" font-family=\"Helvetica,sans-Serif\" font-size=\"14.00\" fill=\"#000000\">value = [549, 342]</text>\n<text text-anchor=\"middle\" x=\"509\" y=\"-349.8\" font-family=\"Helvetica,sans-Serif\" font-size=\"14.00\" fill=\"#000000\">class = Died</text>\n</g>\n<!-- 1 -->\n<g id=\"node2\" class=\"node\">\n<title>1</title>\n<polygon fill=\"#ea985e\" stroke=\"#000000\" points=\"453,-306 319,-306 319,-223 453,-223 453,-306\"/>\n<text text-anchor=\"middle\" x=\"386\" y=\"-290.8\" font-family=\"Helvetica,sans-Serif\" font-size=\"14.00\" fill=\"#000000\">Has_Cabin &lt;= 0.5</text>\n<text text-anchor=\"middle\" x=\"386\" y=\"-275.8\" font-family=\"Helvetica,sans-Serif\" font-size=\"14.00\" fill=\"#000000\">entropy = 0.626</text>\n<text text-anchor=\"middle\" x=\"386\" y=\"-260.8\" font-family=\"Helvetica,sans-Serif\" font-size=\"14.00\" fill=\"#000000\">samples = 517</text>\n<text text-anchor=\"middle\" x=\"386\" y=\"-245.8\" font-family=\"Helvetica,sans-Serif\" font-size=\"14.00\" fill=\"#000000\">value = [436, 81]</text>\n<text text-anchor=\"middle\" x=\"386\" y=\"-230.8\" font-family=\"Helvetica,sans-Serif\" font-size=\"14.00\" fill=\"#000000\">class = Died</text>\n</g>\n<!-- 0&#45;&gt;1 -->\n<g id=\"edge1\" class=\"edge\">\n<title>0&#45;&gt;1</title>\n<path fill=\"none\" stroke=\"#000000\" d=\"M465.9806,-341.8796C456.4853,-332.6931 446.3422,-322.8798 436.5785,-313.4336\"/>\n<polygon fill=\"#000000\" stroke=\"#000000\" points=\"438.8237,-310.7359 429.203,-306.2981 433.9564,-315.7668 438.8237,-310.7359\"/>\n<text text-anchor=\"middle\" x=\"429.6162\" y=\"-327.5947\" font-family=\"Helvetica,sans-Serif\" font-size=\"14.00\" fill=\"#000000\">True</text>\n</g>\n<!-- 8 -->\n<g id=\"node9\" class=\"node\">\n<title>8</title>\n<polygon fill=\"#8fc7f0\" stroke=\"#000000\" points=\"717,-306 585,-306 585,-223 717,-223 717,-306\"/>\n<text text-anchor=\"middle\" x=\"651\" y=\"-290.8\" font-family=\"Helvetica,sans-Serif\" font-size=\"14.00\" fill=\"#000000\">Pclass &lt;= 2.5</text>\n<text text-anchor=\"middle\" x=\"651\" y=\"-275.8\" font-family=\"Helvetica,sans-Serif\" font-size=\"14.00\" fill=\"#000000\">entropy = 0.884</text>\n<text text-anchor=\"middle\" x=\"651\" y=\"-260.8\" font-family=\"Helvetica,sans-Serif\" font-size=\"14.00\" fill=\"#000000\">samples = 374</text>\n<text text-anchor=\"middle\" x=\"651\" y=\"-245.8\" font-family=\"Helvetica,sans-Serif\" font-size=\"14.00\" fill=\"#000000\">value = [113, 261]</text>\n<text text-anchor=\"middle\" x=\"651\" y=\"-230.8\" font-family=\"Helvetica,sans-Serif\" font-size=\"14.00\" fill=\"#000000\">class = Survived</text>\n</g>\n<!-- 0&#45;&gt;8 -->\n<g id=\"edge8\" class=\"edge\">\n<title>0&#45;&gt;8</title>\n<path fill=\"none\" stroke=\"#000000\" d=\"M558.6647,-341.8796C569.8416,-332.513 581.7962,-322.4948 593.2712,-312.8784\"/>\n<polygon fill=\"#000000\" stroke=\"#000000\" points=\"595.7069,-315.4037 601.1233,-306.2981 591.2107,-310.0386 595.7069,-315.4037\"/>\n<text text-anchor=\"middle\" x=\"598.9287\" y=\"-327.5016\" font-family=\"Helvetica,sans-Serif\" font-size=\"14.00\" fill=\"#000000\">False</text>\n</g>\n<!-- 2 -->\n<g id=\"node3\" class=\"node\">\n<title>2</title>\n<polygon fill=\"#e89152\" stroke=\"#000000\" points=\"262,-187 130,-187 130,-104 262,-104 262,-187\"/>\n<text text-anchor=\"middle\" x=\"196\" y=\"-171.8\" font-family=\"Helvetica,sans-Serif\" font-size=\"14.00\" fill=\"#000000\">FamilySize &lt;= 3.5</text>\n<text text-anchor=\"middle\" x=\"196\" y=\"-156.8\" font-family=\"Helvetica,sans-Serif\" font-size=\"14.00\" fill=\"#000000\">entropy = 0.502</text>\n<text text-anchor=\"middle\" x=\"196\" y=\"-141.8\" font-family=\"Helvetica,sans-Serif\" font-size=\"14.00\" fill=\"#000000\">samples = 424</text>\n<text text-anchor=\"middle\" x=\"196\" y=\"-126.8\" font-family=\"Helvetica,sans-Serif\" font-size=\"14.00\" fill=\"#000000\">value = [377, 47]</text>\n<text text-anchor=\"middle\" x=\"196\" y=\"-111.8\" font-family=\"Helvetica,sans-Serif\" font-size=\"14.00\" fill=\"#000000\">class = Died</text>\n</g>\n<!-- 1&#45;&gt;2 -->\n<g id=\"edge2\" class=\"edge\">\n<title>1&#45;&gt;2</title>\n<path fill=\"none\" stroke=\"#000000\" d=\"M319.5472,-222.8796C303.8364,-213.0397 286.9773,-202.4805 270.9202,-192.4237\"/>\n<polygon fill=\"#000000\" stroke=\"#000000\" points=\"272.4272,-189.2378 262.0944,-186.896 268.7116,-195.1703 272.4272,-189.2378\"/>\n</g>\n<!-- 5 -->\n<g id=\"node6\" class=\"node\">\n<title>5</title>\n<polygon fill=\"#f4caab\" stroke=\"#000000\" points=\"445,-187 327,-187 327,-104 445,-104 445,-187\"/>\n<text text-anchor=\"middle\" x=\"386\" y=\"-171.8\" font-family=\"Helvetica,sans-Serif\" font-size=\"14.00\" fill=\"#000000\">Fare &lt;= 0.5</text>\n<text text-anchor=\"middle\" x=\"386\" y=\"-156.8\" font-family=\"Helvetica,sans-Serif\" font-size=\"14.00\" fill=\"#000000\">entropy = 0.947</text>\n<text text-anchor=\"middle\" x=\"386\" y=\"-141.8\" font-family=\"Helvetica,sans-Serif\" font-size=\"14.00\" fill=\"#000000\">samples = 93</text>\n<text text-anchor=\"middle\" x=\"386\" y=\"-126.8\" font-family=\"Helvetica,sans-Serif\" font-size=\"14.00\" fill=\"#000000\">value = [59, 34]</text>\n<text text-anchor=\"middle\" x=\"386\" y=\"-111.8\" font-family=\"Helvetica,sans-Serif\" font-size=\"14.00\" fill=\"#000000\">class = Died</text>\n</g>\n<!-- 1&#45;&gt;5 -->\n<g id=\"edge5\" class=\"edge\">\n<title>1&#45;&gt;5</title>\n<path fill=\"none\" stroke=\"#000000\" d=\"M386,-222.8796C386,-214.6838 386,-205.9891 386,-197.5013\"/>\n<polygon fill=\"#000000\" stroke=\"#000000\" points=\"389.5001,-197.298 386,-187.2981 382.5001,-197.2981 389.5001,-197.298\"/>\n</g>\n<!-- 3 -->\n<g id=\"node4\" class=\"node\">\n<title>3</title>\n<polygon fill=\"#e89153\" stroke=\"#000000\" points=\"124,-68 0,-68 0,0 124,0 124,-68\"/>\n<text text-anchor=\"middle\" x=\"62\" y=\"-52.8\" font-family=\"Helvetica,sans-Serif\" font-size=\"14.00\" fill=\"#000000\">entropy = 0.514</text>\n<text text-anchor=\"middle\" x=\"62\" y=\"-37.8\" font-family=\"Helvetica,sans-Serif\" font-size=\"14.00\" fill=\"#000000\">samples = 410</text>\n<text text-anchor=\"middle\" x=\"62\" y=\"-22.8\" font-family=\"Helvetica,sans-Serif\" font-size=\"14.00\" fill=\"#000000\">value = [363, 47]</text>\n<text text-anchor=\"middle\" x=\"62\" y=\"-7.8\" font-family=\"Helvetica,sans-Serif\" font-size=\"14.00\" fill=\"#000000\">class = Died</text>\n</g>\n<!-- 2&#45;&gt;3 -->\n<g id=\"edge3\" class=\"edge\">\n<title>2&#45;&gt;3</title>\n<path fill=\"none\" stroke=\"#000000\" d=\"M146.1033,-103.9815C134.6162,-94.4232 122.4103,-84.2668 110.9633,-74.7419\"/>\n<polygon fill=\"#000000\" stroke=\"#000000\" points=\"113.1035,-71.9695 103.1779,-68.2637 108.6261,-77.3503 113.1035,-71.9695\"/>\n</g>\n<!-- 4 -->\n<g id=\"node5\" class=\"node\">\n<title>4</title>\n<polygon fill=\"#e58139\" stroke=\"#000000\" points=\"249.5,-68 142.5,-68 142.5,0 249.5,0 249.5,-68\"/>\n<text text-anchor=\"middle\" x=\"196\" y=\"-52.8\" font-family=\"Helvetica,sans-Serif\" font-size=\"14.00\" fill=\"#000000\">entropy = 0.0</text>\n<text text-anchor=\"middle\" x=\"196\" y=\"-37.8\" font-family=\"Helvetica,sans-Serif\" font-size=\"14.00\" fill=\"#000000\">samples = 14</text>\n<text text-anchor=\"middle\" x=\"196\" y=\"-22.8\" font-family=\"Helvetica,sans-Serif\" font-size=\"14.00\" fill=\"#000000\">value = [14, 0]</text>\n<text text-anchor=\"middle\" x=\"196\" y=\"-7.8\" font-family=\"Helvetica,sans-Serif\" font-size=\"14.00\" fill=\"#000000\">class = Died</text>\n</g>\n<!-- 2&#45;&gt;4 -->\n<g id=\"edge4\" class=\"edge\">\n<title>2&#45;&gt;4</title>\n<path fill=\"none\" stroke=\"#000000\" d=\"M196,-103.9815C196,-95.618 196,-86.7965 196,-78.3409\"/>\n<polygon fill=\"#000000\" stroke=\"#000000\" points=\"199.5001,-78.2636 196,-68.2637 192.5001,-78.2637 199.5001,-78.2636\"/>\n</g>\n<!-- 6 -->\n<g id=\"node7\" class=\"node\">\n<title>6</title>\n<polygon fill=\"#e58139\" stroke=\"#000000\" points=\"368.5,-68 267.5,-68 267.5,0 368.5,0 368.5,-68\"/>\n<text text-anchor=\"middle\" x=\"318\" y=\"-52.8\" font-family=\"Helvetica,sans-Serif\" font-size=\"14.00\" fill=\"#000000\">entropy = 0.0</text>\n<text text-anchor=\"middle\" x=\"318\" y=\"-37.8\" font-family=\"Helvetica,sans-Serif\" font-size=\"14.00\" fill=\"#000000\">samples = 8</text>\n<text text-anchor=\"middle\" x=\"318\" y=\"-22.8\" font-family=\"Helvetica,sans-Serif\" font-size=\"14.00\" fill=\"#000000\">value = [8, 0]</text>\n<text text-anchor=\"middle\" x=\"318\" y=\"-7.8\" font-family=\"Helvetica,sans-Serif\" font-size=\"14.00\" fill=\"#000000\">class = Died</text>\n</g>\n<!-- 5&#45;&gt;6 -->\n<g id=\"edge6\" class=\"edge\">\n<title>5&#45;&gt;6</title>\n<path fill=\"none\" stroke=\"#000000\" d=\"M360.6793,-103.9815C355.2984,-95.1585 349.6068,-85.8258 344.1941,-76.9506\"/>\n<polygon fill=\"#000000\" stroke=\"#000000\" points=\"347.0912,-74.9789 338.8962,-68.2637 341.1149,-78.6236 347.0912,-74.9789\"/>\n</g>\n<!-- 7 -->\n<g id=\"node8\" class=\"node\">\n<title>7</title>\n<polygon fill=\"#f6d5bd\" stroke=\"#000000\" points=\"505,-68 387,-68 387,0 505,0 505,-68\"/>\n<text text-anchor=\"middle\" x=\"446\" y=\"-52.8\" font-family=\"Helvetica,sans-Serif\" font-size=\"14.00\" fill=\"#000000\">entropy = 0.971</text>\n<text text-anchor=\"middle\" x=\"446\" y=\"-37.8\" font-family=\"Helvetica,sans-Serif\" font-size=\"14.00\" fill=\"#000000\">samples = 85</text>\n<text text-anchor=\"middle\" x=\"446\" y=\"-22.8\" font-family=\"Helvetica,sans-Serif\" font-size=\"14.00\" fill=\"#000000\">value = [51, 34]</text>\n<text text-anchor=\"middle\" x=\"446\" y=\"-7.8\" font-family=\"Helvetica,sans-Serif\" font-size=\"14.00\" fill=\"#000000\">class = Died</text>\n</g>\n<!-- 5&#45;&gt;7 -->\n<g id=\"edge7\" class=\"edge\">\n<title>5&#45;&gt;7</title>\n<path fill=\"none\" stroke=\"#000000\" d=\"M408.3418,-103.9815C413.0402,-95.2504 418.0071,-86.0202 422.7383,-77.2281\"/>\n<polygon fill=\"#000000\" stroke=\"#000000\" points=\"425.9056,-78.7282 427.5621,-68.2637 419.7414,-75.4111 425.9056,-78.7282\"/>\n</g>\n<!-- 9 -->\n<g id=\"node10\" class=\"node\">\n<title>9</title>\n<polygon fill=\"#54aae9\" stroke=\"#000000\" points=\"713,-187 589,-187 589,-104 713,-104 713,-187\"/>\n<text text-anchor=\"middle\" x=\"651\" y=\"-171.8\" font-family=\"Helvetica,sans-Serif\" font-size=\"14.00\" fill=\"#000000\">Title &lt;= 4.5</text>\n<text text-anchor=\"middle\" x=\"651\" y=\"-156.8\" font-family=\"Helvetica,sans-Serif\" font-size=\"14.00\" fill=\"#000000\">entropy = 0.526</text>\n<text text-anchor=\"middle\" x=\"651\" y=\"-141.8\" font-family=\"Helvetica,sans-Serif\" font-size=\"14.00\" fill=\"#000000\">samples = 202</text>\n<text text-anchor=\"middle\" x=\"651\" y=\"-126.8\" font-family=\"Helvetica,sans-Serif\" font-size=\"14.00\" fill=\"#000000\">value = [24, 178]</text>\n<text text-anchor=\"middle\" x=\"651\" y=\"-111.8\" font-family=\"Helvetica,sans-Serif\" font-size=\"14.00\" fill=\"#000000\">class = Survived</text>\n</g>\n<!-- 8&#45;&gt;9 -->\n<g id=\"edge9\" class=\"edge\">\n<title>8&#45;&gt;9</title>\n<path fill=\"none\" stroke=\"#000000\" d=\"M651,-222.8796C651,-214.6838 651,-205.9891 651,-197.5013\"/>\n<polygon fill=\"#000000\" stroke=\"#000000\" points=\"654.5001,-197.298 651,-187.2981 647.5001,-197.2981 654.5001,-197.298\"/>\n</g>\n<!-- 12 -->\n<g id=\"node13\" class=\"node\">\n<title>12</title>\n<polygon fill=\"#fdf7f2\" stroke=\"#000000\" points=\"929,-187 797,-187 797,-104 929,-104 929,-187\"/>\n<text text-anchor=\"middle\" x=\"863\" y=\"-171.8\" font-family=\"Helvetica,sans-Serif\" font-size=\"14.00\" fill=\"#000000\">FamilySize &lt;= 4.5</text>\n<text text-anchor=\"middle\" x=\"863\" y=\"-156.8\" font-family=\"Helvetica,sans-Serif\" font-size=\"14.00\" fill=\"#000000\">entropy = 0.999</text>\n<text text-anchor=\"middle\" x=\"863\" y=\"-141.8\" font-family=\"Helvetica,sans-Serif\" font-size=\"14.00\" fill=\"#000000\">samples = 172</text>\n<text text-anchor=\"middle\" x=\"863\" y=\"-126.8\" font-family=\"Helvetica,sans-Serif\" font-size=\"14.00\" fill=\"#000000\">value = [89, 83]</text>\n<text text-anchor=\"middle\" x=\"863\" y=\"-111.8\" font-family=\"Helvetica,sans-Serif\" font-size=\"14.00\" fill=\"#000000\">class = Died</text>\n</g>\n<!-- 8&#45;&gt;12 -->\n<g id=\"edge12\" class=\"edge\">\n<title>8&#45;&gt;12</title>\n<path fill=\"none\" stroke=\"#000000\" d=\"M717.2061,-227.3371C739.7213,-214.6989 765.0385,-200.4878 788.1795,-187.4983\"/>\n<polygon fill=\"#000000\" stroke=\"#000000\" points=\"789.9247,-190.5325 796.9316,-182.5856 786.4983,-184.4283 789.9247,-190.5325\"/>\n</g>\n<!-- 10 -->\n<g id=\"node11\" class=\"node\">\n<title>10</title>\n<polygon fill=\"#43a2e6\" stroke=\"#000000\" points=\"646.5,-68 523.5,-68 523.5,0 646.5,0 646.5,-68\"/>\n<text text-anchor=\"middle\" x=\"585\" y=\"-52.8\" font-family=\"Helvetica,sans-Serif\" font-size=\"14.00\" fill=\"#000000\">entropy = 0.288</text>\n<text text-anchor=\"middle\" x=\"585\" y=\"-37.8\" font-family=\"Helvetica,sans-Serif\" font-size=\"14.00\" fill=\"#000000\">samples = 179</text>\n<text text-anchor=\"middle\" x=\"585\" y=\"-22.8\" font-family=\"Helvetica,sans-Serif\" font-size=\"14.00\" fill=\"#000000\">value = [9, 170]</text>\n<text text-anchor=\"middle\" x=\"585\" y=\"-7.8\" font-family=\"Helvetica,sans-Serif\" font-size=\"14.00\" fill=\"#000000\">class = Survived</text>\n</g>\n<!-- 9&#45;&gt;10 -->\n<g id=\"edge10\" class=\"edge\">\n<title>9&#45;&gt;10</title>\n<path fill=\"none\" stroke=\"#000000\" d=\"M626.424,-103.9815C621.2014,-95.1585 615.6771,-85.8258 610.4237,-76.9506\"/>\n<polygon fill=\"#000000\" stroke=\"#000000\" points=\"613.3874,-75.0863 605.2816,-68.2637 607.3636,-78.652 613.3874,-75.0863\"/>\n</g>\n<!-- 11 -->\n<g id=\"node12\" class=\"node\">\n<title>11</title>\n<polygon fill=\"#f3c4a3\" stroke=\"#000000\" points=\"783,-68 665,-68 665,0 783,0 783,-68\"/>\n<text text-anchor=\"middle\" x=\"724\" y=\"-52.8\" font-family=\"Helvetica,sans-Serif\" font-size=\"14.00\" fill=\"#000000\">entropy = 0.932</text>\n<text text-anchor=\"middle\" x=\"724\" y=\"-37.8\" font-family=\"Helvetica,sans-Serif\" font-size=\"14.00\" fill=\"#000000\">samples = 23</text>\n<text text-anchor=\"middle\" x=\"724\" y=\"-22.8\" font-family=\"Helvetica,sans-Serif\" font-size=\"14.00\" fill=\"#000000\">value = [15, 8]</text>\n<text text-anchor=\"middle\" x=\"724\" y=\"-7.8\" font-family=\"Helvetica,sans-Serif\" font-size=\"14.00\" fill=\"#000000\">class = Died</text>\n</g>\n<!-- 9&#45;&gt;11 -->\n<g id=\"edge11\" class=\"edge\">\n<title>9&#45;&gt;11</title>\n<path fill=\"none\" stroke=\"#000000\" d=\"M678.1825,-103.9815C684.0192,-95.0666 690.1966,-85.6313 696.0614,-76.6734\"/>\n<polygon fill=\"#000000\" stroke=\"#000000\" points=\"699.0179,-78.5472 701.5673,-68.2637 693.1614,-74.7129 699.0179,-78.5472\"/>\n</g>\n<!-- 13 -->\n<g id=\"node14\" class=\"node\">\n<title>13</title>\n<polygon fill=\"#b1d9f5\" stroke=\"#000000\" points=\"924.5,-68 801.5,-68 801.5,0 924.5,0 924.5,-68\"/>\n<text text-anchor=\"middle\" x=\"863\" y=\"-52.8\" font-family=\"Helvetica,sans-Serif\" font-size=\"14.00\" fill=\"#000000\">entropy = 0.957</text>\n<text text-anchor=\"middle\" x=\"863\" y=\"-37.8\" font-family=\"Helvetica,sans-Serif\" font-size=\"14.00\" fill=\"#000000\">samples = 127</text>\n<text text-anchor=\"middle\" x=\"863\" y=\"-22.8\" font-family=\"Helvetica,sans-Serif\" font-size=\"14.00\" fill=\"#000000\">value = [48, 79]</text>\n<text text-anchor=\"middle\" x=\"863\" y=\"-7.8\" font-family=\"Helvetica,sans-Serif\" font-size=\"14.00\" fill=\"#000000\">class = Survived</text>\n</g>\n<!-- 12&#45;&gt;13 -->\n<g id=\"edge13\" class=\"edge\">\n<title>12&#45;&gt;13</title>\n<path fill=\"none\" stroke=\"#000000\" d=\"M863,-103.9815C863,-95.618 863,-86.7965 863,-78.3409\"/>\n<polygon fill=\"#000000\" stroke=\"#000000\" points=\"866.5001,-78.2636 863,-68.2637 859.5001,-78.2637 866.5001,-78.2636\"/>\n</g>\n<!-- 14 -->\n<g id=\"node15\" class=\"node\">\n<title>14</title>\n<polygon fill=\"#e88d4c\" stroke=\"#000000\" points=\"1061,-68 943,-68 943,0 1061,0 1061,-68\"/>\n<text text-anchor=\"middle\" x=\"1002\" y=\"-52.8\" font-family=\"Helvetica,sans-Serif\" font-size=\"14.00\" fill=\"#000000\">entropy = 0.433</text>\n<text text-anchor=\"middle\" x=\"1002\" y=\"-37.8\" font-family=\"Helvetica,sans-Serif\" font-size=\"14.00\" fill=\"#000000\">samples = 45</text>\n<text text-anchor=\"middle\" x=\"1002\" y=\"-22.8\" font-family=\"Helvetica,sans-Serif\" font-size=\"14.00\" fill=\"#000000\">value = [41, 4]</text>\n<text text-anchor=\"middle\" x=\"1002\" y=\"-7.8\" font-family=\"Helvetica,sans-Serif\" font-size=\"14.00\" fill=\"#000000\">class = Died</text>\n</g>\n<!-- 12&#45;&gt;14 -->\n<g id=\"edge14\" class=\"edge\">\n<title>12&#45;&gt;14</title>\n<path fill=\"none\" stroke=\"#000000\" d=\"M914.7585,-103.9815C926.6742,-94.4232 939.3356,-84.2668 951.2097,-74.7419\"/>\n<polygon fill=\"#000000\" stroke=\"#000000\" points=\"953.6752,-77.2511 959.2856,-68.2637 949.2951,-71.7907 953.6752,-77.2511\"/>\n</g>\n</g>\n</svg>\n"
          },
          "metadata": {},
          "execution_count": 13
        }
      ]
    },
    {
      "cell_type": "code",
      "source": [
        "params = {'max_depth': [i for i in range(1,15)],\n",
        "          'criterion': ['gini', 'entropy']}\n",
        "\n",
        "decision_tree = tree.DecisionTreeClassifier()\n",
        "\n",
        "grid_search = GridSearchCV(decision_tree, param_grid=params, cv=10, scoring='accuracy')\n",
        "grid_search.fit(x_train, y_train)"
      ],
      "metadata": {
        "colab": {
          "base_uri": "https://localhost:8080/"
        },
        "id": "Y5tJ8rzC5sEq",
        "outputId": "3d7d4f5b-55f3-4363-854c-6c2676adbb4d"
      },
      "execution_count": null,
      "outputs": [
        {
          "output_type": "execute_result",
          "data": {
            "text/plain": [
              "GridSearchCV(cv=10, estimator=DecisionTreeClassifier(),\n",
              "             param_grid={'criterion': ['gini', 'entropy'],\n",
              "                         'max_depth': [1, 2, 3, 4, 5, 6, 7, 8, 9, 10, 11, 12,\n",
              "                                       13, 14]},\n",
              "             scoring='accuracy')"
            ]
          },
          "metadata": {},
          "execution_count": 14
        }
      ]
    },
    {
      "cell_type": "code",
      "source": [
        "results = grid_search.cv_results_\n",
        "accuracy_g = []\n",
        "accuracy_e = []\n",
        "max_depth_g = []\n",
        "max_depth_e = []\n",
        "for mean_test_score, params in zip(results['mean_test_score'], results['params']):\n",
        "  if params['criterion'] == 'gini':\n",
        "    accuracy_g.append(mean_test_score)\n",
        "    max_depth_g.append(params['max_depth'])\n",
        "  else:\n",
        "    accuracy_e.append(mean_test_score)\n",
        "    max_depth_e.append(params['max_depth'])    \n",
        "  print(mean_test_score, params)"
      ],
      "metadata": {
        "colab": {
          "base_uri": "https://localhost:8080/"
        },
        "id": "0EzGaEqC-zWJ",
        "outputId": "2201a5e4-6236-4bdc-9cf9-e351c01651c6"
      },
      "execution_count": null,
      "outputs": [
        {
          "output_type": "stream",
          "name": "stdout",
          "text": [
            "0.7822846441947565 {'criterion': 'gini', 'max_depth': 1}\n",
            "0.7912983770287141 {'criterion': 'gini', 'max_depth': 2}\n",
            "0.8305243445692885 {'criterion': 'gini', 'max_depth': 3}\n",
            "0.8125468164794007 {'criterion': 'gini', 'max_depth': 4}\n",
            "0.8103245942571785 {'criterion': 'gini', 'max_depth': 5}\n",
            "0.8081523096129837 {'criterion': 'gini', 'max_depth': 6}\n",
            "0.818227215980025 {'criterion': 'gini', 'max_depth': 7}\n",
            "0.8126466916354558 {'criterion': 'gini', 'max_depth': 8}\n",
            "0.8227215980024969 {'criterion': 'gini', 'max_depth': 9}\n",
            "0.8238826466916356 {'criterion': 'gini', 'max_depth': 10}\n",
            "0.8160174781523096 {'criterion': 'gini', 'max_depth': 11}\n",
            "0.8115355805243446 {'criterion': 'gini', 'max_depth': 12}\n",
            "0.8149063670411983 {'criterion': 'gini', 'max_depth': 13}\n",
            "0.8126591760299625 {'criterion': 'gini', 'max_depth': 14}\n",
            "0.7822846441947565 {'criterion': 'entropy', 'max_depth': 1}\n",
            "0.7890511860174781 {'criterion': 'entropy', 'max_depth': 2}\n",
            "0.8316479400749064 {'criterion': 'entropy', 'max_depth': 3}\n",
            "0.8215355805243446 {'criterion': 'entropy', 'max_depth': 4}\n",
            "0.8249188514357053 {'criterion': 'entropy', 'max_depth': 5}\n",
            "0.821598002496879 {'criterion': 'entropy', 'max_depth': 6}\n",
            "0.8114731585518102 {'criterion': 'entropy', 'max_depth': 7}\n",
            "0.8103745318352059 {'criterion': 'entropy', 'max_depth': 8}\n",
            "0.8249438202247191 {'criterion': 'entropy', 'max_depth': 9}\n",
            "0.8115106117353308 {'criterion': 'entropy', 'max_depth': 10}\n",
            "0.8115106117353308 {'criterion': 'entropy', 'max_depth': 11}\n",
            "0.8059051186017478 {'criterion': 'entropy', 'max_depth': 12}\n",
            "0.8059176029962547 {'criterion': 'entropy', 'max_depth': 13}\n",
            "0.8047940074906366 {'criterion': 'entropy', 'max_depth': 14}\n"
          ]
        }
      ]
    },
    {
      "cell_type": "code",
      "source": [
        "plt.plot(max_depth_g, accuracy_g, label='gini')\n",
        "plt.plot(max_depth_e, accuracy_e, label='entropy')\n",
        "plt.xlabel(\"max depth\")\n",
        "plt.ylabel(\"accuracy [%]\")\n",
        "plt.legend()"
      ],
      "metadata": {
        "colab": {
          "base_uri": "https://localhost:8080/",
          "height": 296
        },
        "id": "oe6cdh1SEYWT",
        "outputId": "b6ba860b-dacf-4a9c-8753-842f9dd6a6f4"
      },
      "execution_count": null,
      "outputs": [
        {
          "output_type": "execute_result",
          "data": {
            "text/plain": [
              "<matplotlib.legend.Legend at 0x7f3ef1048b90>"
            ]
          },
          "metadata": {},
          "execution_count": 16
        },
        {
          "output_type": "display_data",
          "data": {
            "text/plain": [
              "<Figure size 432x288 with 1 Axes>"
            ],
            "image/png": "[encoded data removed]"
          },
          "metadata": {
            "needs_background": "light"
          }
        }
      ]
    },
    {
      "cell_type": "markdown",
      "source": [
        "Zarówno dla kryterium podziału gini, jak i entropy największa dokładność występuje przy maksymalnej głębokości drzewa równej 3.\n"
      ],
      "metadata": {
        "id": "7huj5yoUj-gI"
      }
    },
    {
      "cell_type": "code",
      "source": [
        "params = {'min_samples_leaf': [i for i in range(1,15)],\n",
        "          'criterion': ['gini', 'entropy']}\n",
        "\n",
        "decision_tree = tree.DecisionTreeClassifier()\n",
        "\n",
        "grid_search = GridSearchCV(decision_tree, param_grid=params, cv=10, scoring='accuracy')\n",
        "grid_search.fit(x_train, y_train)"
      ],
      "metadata": {
        "colab": {
          "base_uri": "https://localhost:8080/"
        },
        "id": "JcLJ3P0LDbwp",
        "outputId": "6c333a3c-bb22-4d53-df0b-bc0a50a6b113"
      },
      "execution_count": null,
      "outputs": [
        {
          "output_type": "execute_result",
          "data": {
            "text/plain": [
              "GridSearchCV(cv=10, estimator=DecisionTreeClassifier(),\n",
              "             param_grid={'criterion': ['gini', 'entropy'],\n",
              "                         'min_samples_leaf': [1, 2, 3, 4, 5, 6, 7, 8, 9, 10, 11,\n",
              "                                              12, 13, 14]},\n",
              "             scoring='accuracy')"
            ]
          },
          "metadata": {},
          "execution_count": 17
        }
      ]
    },
    {
      "cell_type": "code",
      "source": [
        "results = grid_search.cv_results_\n",
        "accuracy_g = []\n",
        "accuracy_e = []\n",
        "min_samples_leaf_g = []\n",
        "min_samples_leaf_e = []\n",
        "for mean_test_score, params in zip(results['mean_test_score'], results['params']):\n",
        "  if params['criterion'] == 'gini':\n",
        "    accuracy_g.append(mean_test_score)\n",
        "    min_samples_leaf_g.append(params['min_samples_leaf'])\n",
        "  else:\n",
        "    accuracy_e.append(mean_test_score)\n",
        "    min_samples_leaf_e.append(params['min_samples_leaf'])    \n",
        "  print(mean_test_score, params)"
      ],
      "metadata": {
        "colab": {
          "base_uri": "https://localhost:8080/"
        },
        "id": "YE8j8mDsFAMN",
        "outputId": "6fd93365-1d82-45ba-baae-11ba7520c8c5"
      },
      "execution_count": null,
      "outputs": [
        {
          "output_type": "stream",
          "name": "stdout",
          "text": [
            "0.8149063670411983 {'criterion': 'gini', 'min_samples_leaf': 1}\n",
            "0.8148813982521848 {'criterion': 'gini', 'min_samples_leaf': 2}\n",
            "0.8159675405742821 {'criterion': 'gini', 'min_samples_leaf': 3}\n",
            "0.8182272159800249 {'criterion': 'gini', 'min_samples_leaf': 4}\n",
            "0.8081398252184769 {'criterion': 'gini', 'min_samples_leaf': 5}\n",
            "0.8103870162297128 {'criterion': 'gini', 'min_samples_leaf': 6}\n",
            "0.8125967540574282 {'criterion': 'gini', 'min_samples_leaf': 7}\n",
            "0.8148439450686642 {'criterion': 'gini', 'min_samples_leaf': 8}\n",
            "0.8103495630461923 {'criterion': 'gini', 'min_samples_leaf': 9}\n",
            "0.8092259675405742 {'criterion': 'gini', 'min_samples_leaf': 10}\n",
            "0.8092259675405744 {'criterion': 'gini', 'min_samples_leaf': 11}\n",
            "0.8070037453183522 {'criterion': 'gini', 'min_samples_leaf': 12}\n",
            "0.807016229712859 {'criterion': 'gini', 'min_samples_leaf': 13}\n",
            "0.807016229712859 {'criterion': 'gini', 'min_samples_leaf': 14}\n",
            "0.8092759051186016 {'criterion': 'entropy', 'min_samples_leaf': 1}\n",
            "0.8216104868913858 {'criterion': 'entropy', 'min_samples_leaf': 2}\n",
            "0.8204868913857677 {'criterion': 'entropy', 'min_samples_leaf': 3}\n",
            "0.8160049937578029 {'criterion': 'entropy', 'min_samples_leaf': 4}\n",
            "0.818214731585518 {'criterion': 'entropy', 'min_samples_leaf': 5}\n",
            "0.8170911360799 {'criterion': 'entropy', 'min_samples_leaf': 6}\n",
            "0.8193383270911362 {'criterion': 'entropy', 'min_samples_leaf': 7}\n",
            "0.8148439450686642 {'criterion': 'entropy', 'min_samples_leaf': 8}\n",
            "0.8114731585518102 {'criterion': 'entropy', 'min_samples_leaf': 9}\n",
            "0.8137203495630461 {'criterion': 'entropy', 'min_samples_leaf': 10}\n",
            "0.8148439450686642 {'criterion': 'entropy', 'min_samples_leaf': 11}\n",
            "0.812621722846442 {'criterion': 'entropy', 'min_samples_leaf': 12}\n",
            "0.8126342072409487 {'criterion': 'entropy', 'min_samples_leaf': 13}\n",
            "0.8126342072409487 {'criterion': 'entropy', 'min_samples_leaf': 14}\n"
          ]
        }
      ]
    },
    {
      "cell_type": "code",
      "source": [
        "plt.plot(min_samples_leaf_g, accuracy_g, label='gini')\n",
        "plt.plot(min_samples_leaf_e, accuracy_e, label='entropy')\n",
        "plt.xlabel(\"min samples leaf\")\n",
        "plt.ylabel(\"accuracy [%]\")\n",
        "plt.legend()"
      ],
      "metadata": {
        "colab": {
          "base_uri": "https://localhost:8080/",
          "height": 296
        },
        "id": "n1iGwbRMFACR",
        "outputId": "15c19413-f24f-48d2-b507-fbf414ccd43b"
      },
      "execution_count": null,
      "outputs": [
        {
          "output_type": "execute_result",
          "data": {
            "text/plain": [
              "<matplotlib.legend.Legend at 0x7f3ef3660f10>"
            ]
          },
          "metadata": {},
          "execution_count": 19
        },
        {
          "output_type": "display_data",
          "data": {
            "text/plain": [
              "<Figure size 432x288 with 1 Axes>"
            ],
            "image/png": "[encoded data removed]"
          },
          "metadata": {
            "needs_background": "light"
          }
        }
      ]
    },
    {
      "cell_type": "markdown",
      "source": [
        "Dla kryterium podziału gini największa dokładność występuje przy najmniejszej liczbie rekordów w liściu równej 4.\n",
        "\n",
        "Dla kryterium podziału entropy największa dokładność występuje przy najmniejszej liczbie rekordów w liściu równej 2."
      ],
      "metadata": {
        "id": "oT5dERb5jkmf"
      }
    },
    {
      "cell_type": "code",
      "source": [
        "from sklearn.model_selection import train_test_split\n",
        "\n",
        "X_train, X_test, Y_train, Y_test = train_test_split(x_train, y_train, test_size=0.25, random_state=42)"
      ],
      "metadata": {
        "id": "DEU1jQt6_HRE"
      },
      "execution_count": null,
      "outputs": []
    },
    {
      "cell_type": "code",
      "source": [
        "decision_tree.fit(X_train, Y_train)\n",
        "predictions = decision_tree.predict(X_test)"
      ],
      "metadata": {
        "id": "O97VK8Jp_euo"
      },
      "execution_count": null,
      "outputs": []
    },
    {
      "cell_type": "code",
      "source": [
        "from sklearn.metrics import confusion_matrix, plot_confusion_matrix, accuracy_score, f1_score, PrecisionRecallDisplay\n",
        "print(confusion_matrix(Y_test, predictions))\n",
        "plot_confusion_matrix(decision_tree, X_test, Y_test)  \n",
        "plt.show()"
      ],
      "metadata": {
        "colab": {
          "base_uri": "https://localhost:8080/",
          "height": 368
        },
        "id": "Ic4_UAocA4y0",
        "outputId": "918efb54-f7b8-4058-aaeb-e62677149632"
      },
      "execution_count": null,
      "outputs": [
        {
          "output_type": "stream",
          "name": "stdout",
          "text": [
            "[[113  21]\n",
            " [ 18  71]]\n"
          ]
        },
        {
          "output_type": "stream",
          "name": "stderr",
          "text": [
            "/usr/local/lib/python3.7/dist-packages/sklearn/utils/deprecation.py:87: FutureWarning: Function plot_confusion_matrix is deprecated; Function `plot_confusion_matrix` is deprecated in 1.0 and will be removed in 1.2. Use one of the class methods: ConfusionMatrixDisplay.from_predictions or ConfusionMatrixDisplay.from_estimator.\n",
            "  warnings.warn(msg, category=FutureWarning)\n"
          ]
        },
        {
          "output_type": "display_data",
          "data": {
            "text/plain": [
              "<Figure size 432x288 with 2 Axes>"
            ],
            "image/png": "[encoded data removed]"
          },
          "metadata": {
            "needs_background": "light"
          }
        }
      ]
    },
    {
      "cell_type": "code",
      "source": [
        "print(f\"accuracy: {accuracy_score(Y_test, predictions)}\")\n",
        "print(f\"f1-score: {f1_score(Y_test, predictions)}\")"
      ],
      "metadata": {
        "colab": {
          "base_uri": "https://localhost:8080/"
        },
        "id": "Ic27WClpBoA1",
        "outputId": "47795a1e-fba1-4599-9a52-d8a3e5329273"
      },
      "execution_count": null,
      "outputs": [
        {
          "output_type": "stream",
          "name": "stdout",
          "text": [
            "accuracy: 0.8251121076233184\n",
            "f1-score: 0.7845303867403315\n"
          ]
        }
      ]
    },
    {
      "cell_type": "code",
      "source": [
        "display = PrecisionRecallDisplay.from_estimator(decision_tree, X_test, Y_test)\n",
        "_ = display.ax_.set_title(\"Precision-Recall curve\")"
      ],
      "metadata": {
        "colab": {
          "base_uri": "https://localhost:8080/",
          "height": 295
        },
        "id": "ZpSPe2WKCW-P",
        "outputId": "1f56e19c-5265-4c59-9301-4f5c0b6bfaa4"
      },
      "execution_count": null,
      "outputs": [
        {
          "output_type": "display_data",
          "data": {
            "text/plain": [
              "<Figure size 432x288 with 1 Axes>"
            ],
            "image/png": "[encoded data removed]"
          },
          "metadata": {
            "needs_background": "light"
          }
        }
      ]
    },
    {
      "cell_type": "markdown",
      "source": [
        "#**zadanie 2**"
      ],
      "metadata": {
        "id": "-KHSO3eYGQtQ"
      }
    },
    {
      "cell_type": "markdown",
      "source": [
        "**Iris dataset**"
      ],
      "metadata": {
        "id": "38v-Jcuol6LB"
      }
    },
    {
      "cell_type": "code",
      "source": [
        "from sklearn.datasets import load_iris\n",
        "data = load_iris()\n",
        "data.keys()"
      ],
      "metadata": {
        "colab": {
          "base_uri": "https://localhost:8080/"
        },
        "id": "5rd0yMjbF6X5",
        "outputId": "894d212c-f1e7-4027-eae3-614191f8afea"
      },
      "execution_count": null,
      "outputs": [
        {
          "output_type": "execute_result",
          "data": {
            "text/plain": [
              "dict_keys(['data', 'target', 'frame', 'target_names', 'DESCR', 'feature_names', 'filename', 'data_module'])"
            ]
          },
          "metadata": {},
          "execution_count": 25
        }
      ]
    },
    {
      "cell_type": "code",
      "source": [
        "X = data.data\n",
        "y = data.target"
      ],
      "metadata": {
        "id": "iP1Q1nQ1ls7D"
      },
      "execution_count": null,
      "outputs": []
    },
    {
      "cell_type": "code",
      "source": [
        "from sklearn.neighbors import KNeighborsClassifier\n",
        "\n",
        "params = {'n_neighbors': [1, 3, 5, 7]}\n",
        "knn = KNeighborsClassifier()\n",
        "knn_grid_search = GridSearchCV(knn, param_grid=params, cv=10, scoring='accuracy')\n",
        "knn_grid_search.fit(X, y)"
      ],
      "metadata": {
        "colab": {
          "base_uri": "https://localhost:8080/"
        },
        "id": "h49_gy0nlsvf",
        "outputId": "18caad8a-d44f-4b8c-e255-ac7fc3652f7a"
      },
      "execution_count": null,
      "outputs": [
        {
          "output_type": "execute_result",
          "data": {
            "text/plain": [
              "GridSearchCV(cv=10, estimator=KNeighborsClassifier(),\n",
              "             param_grid={'n_neighbors': [1, 3, 5, 7]}, scoring='accuracy')"
            ]
          },
          "metadata": {},
          "execution_count": 27
        }
      ]
    },
    {
      "cell_type": "code",
      "source": [
        "knn_grid_results = knn_grid_search.cv_results_\n",
        "for mean_test_score, params in zip(knn_grid_results['mean_test_score'], knn_grid_results['params']):\n",
        "  print(f\"accuracy: {mean_test_score} for {params}\")"
      ],
      "metadata": {
        "colab": {
          "base_uri": "https://localhost:8080/"
        },
        "id": "BT7bUSFmnBF2",
        "outputId": "a90e80ea-1903-441d-f4a9-55f091817260"
      },
      "execution_count": null,
      "outputs": [
        {
          "output_type": "stream",
          "name": "stdout",
          "text": [
            "accuracy: 0.96 for {'n_neighbors': 1}\n",
            "accuracy: 0.9666666666666666 for {'n_neighbors': 3}\n",
            "accuracy: 0.9666666666666668 for {'n_neighbors': 5}\n",
            "accuracy: 0.9666666666666668 for {'n_neighbors': 7}\n"
          ]
        }
      ]
    },
    {
      "cell_type": "code",
      "source": [
        "# p=1 -> Taxi,   p=2 -> Euklidesowa\n",
        "params = {'weights': ['uniform', 'distance'],\n",
        "          'p': [1, 2]}  \n",
        "          \n",
        "knn_grid_search = GridSearchCV(knn, param_grid=params, cv=10, scoring='accuracy')         \n",
        "knn_grid_search.fit(X, y)"
      ],
      "metadata": {
        "id": "4wdRqDD0vBZF",
        "colab": {
          "base_uri": "https://localhost:8080/"
        },
        "outputId": "617fea63-410f-4a2f-c142-004cf23e2d0a"
      },
      "execution_count": null,
      "outputs": [
        {
          "output_type": "execute_result",
          "data": {
            "text/plain": [
              "GridSearchCV(cv=10, estimator=KNeighborsClassifier(),\n",
              "             param_grid={'p': [1, 2], 'weights': ['uniform', 'distance']},\n",
              "             scoring='accuracy')"
            ]
          },
          "metadata": {},
          "execution_count": 29
        }
      ]
    },
    {
      "cell_type": "code",
      "source": [
        "knn_grid_results = knn_grid_search.cv_results_\n",
        "for mean_test_score, params in zip(knn_grid_results['mean_test_score'], knn_grid_results['params']):\n",
        "  print(f\"accuracy: {mean_test_score} for {params}\")"
      ],
      "metadata": {
        "colab": {
          "base_uri": "https://localhost:8080/"
        },
        "id": "qc0pOEuIuyD8",
        "outputId": "f4867645-6818-49cc-f7de-89c88829c6e7"
      },
      "execution_count": null,
      "outputs": [
        {
          "output_type": "stream",
          "name": "stdout",
          "text": [
            "accuracy: 0.9666666666666668 for {'p': 1, 'weights': 'uniform'}\n",
            "accuracy: 0.9666666666666668 for {'p': 1, 'weights': 'distance'}\n",
            "accuracy: 0.9666666666666668 for {'p': 2, 'weights': 'uniform'}\n",
            "accuracy: 0.9666666666666668 for {'p': 2, 'weights': 'distance'}\n"
          ]
        }
      ]
    },
    {
      "cell_type": "markdown",
      "source": [
        "Przetestowane wagi oraz miary odległości nie powodują zmiany dokładność modelu, gdyż dla wszystkich kombinacji dokładność jest taka sama."
      ],
      "metadata": {
        "id": "TUl3JHaVApVf"
      }
    },
    {
      "cell_type": "markdown",
      "source": [
        "**nyt-frame dataset**"
      ],
      "metadata": {
        "id": "pqlu6--QqA-J"
      }
    },
    {
      "cell_type": "code",
      "source": [
        "df = pd.read_csv('./nyt-frame.csv')\n",
        "df.head()"
      ],
      "metadata": {
        "colab": {
          "base_uri": "https://localhost:8080/",
          "height": 236
        },
        "id": "xgh2x6nUrlhq",
        "outputId": "1072d31f-5b2f-4004-cfc6-e4f8a8f354f9"
      },
      "execution_count": null,
      "outputs": [
        {
          "output_type": "execute_result",
          "data": {
            "text/plain": [
              "   Unnamed: 0 class.labels        X.  X.d  X.nd       X.s      X.th  X.this  \\\n",
              "0           1          art  0.008707  0.0   0.0  0.000000  0.009251     0.0   \n",
              "1           2          art  0.005848  0.0   0.0  0.000000  0.000000     0.0   \n",
              "2           3          art  0.016036  0.0   0.0  0.011403  0.000000     0.0   \n",
              "3           4          art  0.026415  0.0   0.0  0.000000  0.000000     0.0   \n",
              "4           5          art  0.007285  0.0   0.0  0.011008  0.000000     0.0   \n",
              "\n",
              "          a  abandoned  ...  yorkers  yorks       you  young  younger  your  \\\n",
              "0  0.007564        0.0  ...      0.0    0.0  0.000000    0.0      0.0   0.0   \n",
              "1  0.001418        0.0  ...      0.0    0.0  0.000000    0.0      0.0   0.0   \n",
              "2  0.010063        0.0  ...      0.0    0.0  0.000000    0.0      0.0   0.0   \n",
              "3  0.008677        0.0  ...      0.0    0.0  0.000000    0.0      0.0   0.0   \n",
              "4  0.008390        0.0  ...      0.0    0.0  0.048151    0.0      0.0   0.0   \n",
              "\n",
              "   youre  youth  youthful   yu  \n",
              "0    0.0    0.0       0.0  0.0  \n",
              "1    0.0    0.0       0.0  0.0  \n",
              "2    0.0    0.0       0.0  0.0  \n",
              "3    0.0    0.0       0.0  0.0  \n",
              "4    0.0    0.0       0.0  0.0  \n",
              "\n",
              "[5 rows x 4433 columns]"
            ],
            "text/html": [
              "\n",
              "  <div id=\"df-89bff45e-e3ac-4306-bec6-6f3a10081630\">\n",
              "    <div class=\"colab-df-container\">\n",
              "      <div>\n",
              "<style scoped>\n",
              "    .dataframe tbody tr th:only-of-type {\n",
              "        vertical-align: middle;\n",
              "    }\n",
              "\n",
              "    .dataframe tbody tr th {\n",
              "        vertical-align: top;\n",
              "    }\n",
              "\n",
              "    .dataframe thead th {\n",
              "        text-align: right;\n",
              "    }\n",
              "</style>\n",
              "<table border=\"1\" class=\"dataframe\">\n",
              "  <thead>\n",
              "    <tr style=\"text-align: right;\">\n",
              "      <th></th>\n",
              "      <th>Unnamed: 0</th>\n",
              "      <th>class.labels</th>\n",
              "      <th>X.</th>\n",
              "      <th>X.d</th>\n",
              "      <th>X.nd</th>\n",
              "      <th>X.s</th>\n",
              "      <th>X.th</th>\n",
              "      <th>X.this</th>\n",
              "      <th>a</th>\n",
              "      <th>abandoned</th>\n",
              "      <th>...</th>\n",
              "      <th>yorkers</th>\n",
              "      <th>yorks</th>\n",
              "      <th>you</th>\n",
              "      <th>young</th>\n",
              "      <th>younger</th>\n",
              "      <th>your</th>\n",
              "      <th>youre</th>\n",
              "      <th>youth</th>\n",
              "      <th>youthful</th>\n",
              "      <th>yu</th>\n",
              "    </tr>\n",
              "  </thead>\n",
              "  <tbody>\n",
              "    <tr>\n",
              "      <th>0</th>\n",
              "      <td>1</td>\n",
              "      <td>art</td>\n",
              "      <td>0.008707</td>\n",
              "      <td>0.0</td>\n",
              "      <td>0.0</td>\n",
              "      <td>0.000000</td>\n",
              "      <td>0.009251</td>\n",
              "      <td>0.0</td>\n",
              "      <td>0.007564</td>\n",
              "      <td>0.0</td>\n",
              "      <td>...</td>\n",
              "      <td>0.0</td>\n",
              "      <td>0.0</td>\n",
              "      <td>0.000000</td>\n",
              "      <td>0.0</td>\n",
              "      <td>0.0</td>\n",
              "      <td>0.0</td>\n",
              "      <td>0.0</td>\n",
              "      <td>0.0</td>\n",
              "      <td>0.0</td>\n",
              "      <td>0.0</td>\n",
              "    </tr>\n",
              "    <tr>\n",
              "      <th>1</th>\n",
              "      <td>2</td>\n",
              "      <td>art</td>\n",
              "      <td>0.005848</td>\n",
              "      <td>0.0</td>\n",
              "      <td>0.0</td>\n",
              "      <td>0.000000</td>\n",
              "      <td>0.000000</td>\n",
              "      <td>0.0</td>\n",
              "      <td>0.001418</td>\n",
              "      <td>0.0</td>\n",
              "      <td>...</td>\n",
              "      <td>0.0</td>\n",
              "      <td>0.0</td>\n",
              "      <td>0.000000</td>\n",
              "      <td>0.0</td>\n",
              "      <td>0.0</td>\n",
              "      <td>0.0</td>\n",
              "      <td>0.0</td>\n",
              "      <td>0.0</td>\n",
              "      <td>0.0</td>\n",
              "      <td>0.0</td>\n",
              "    </tr>\n",
              "    <tr>\n",
              "      <th>2</th>\n",
              "      <td>3</td>\n",
              "      <td>art</td>\n",
              "      <td>0.016036</td>\n",
              "      <td>0.0</td>\n",
              "      <td>0.0</td>\n",
              "      <td>0.011403</td>\n",
              "      <td>0.000000</td>\n",
              "      <td>0.0</td>\n",
              "      <td>0.010063</td>\n",
              "      <td>0.0</td>\n",
              "      <td>...</td>\n",
              "      <td>0.0</td>\n",
              "      <td>0.0</td>\n",
              "      <td>0.000000</td>\n",
              "      <td>0.0</td>\n",
              "      <td>0.0</td>\n",
              "      <td>0.0</td>\n",
              "      <td>0.0</td>\n",
              "      <td>0.0</td>\n",
              "      <td>0.0</td>\n",
              "      <td>0.0</td>\n",
              "    </tr>\n",
              "    <tr>\n",
              "      <th>3</th>\n",
              "      <td>4</td>\n",
              "      <td>art</td>\n",
              "      <td>0.026415</td>\n",
              "      <td>0.0</td>\n",
              "      <td>0.0</td>\n",
              "      <td>0.000000</td>\n",
              "      <td>0.000000</td>\n",
              "      <td>0.0</td>\n",
              "      <td>0.008677</td>\n",
              "      <td>0.0</td>\n",
              "      <td>...</td>\n",
              "      <td>0.0</td>\n",
              "      <td>0.0</td>\n",
              "      <td>0.000000</td>\n",
              "      <td>0.0</td>\n",
              "      <td>0.0</td>\n",
              "      <td>0.0</td>\n",
              "      <td>0.0</td>\n",
              "      <td>0.0</td>\n",
              "      <td>0.0</td>\n",
              "      <td>0.0</td>\n",
              "    </tr>\n",
              "    <tr>\n",
              "      <th>4</th>\n",
              "      <td>5</td>\n",
              "      <td>art</td>\n",
              "      <td>0.007285</td>\n",
              "      <td>0.0</td>\n",
              "      <td>0.0</td>\n",
              "      <td>0.011008</td>\n",
              "      <td>0.000000</td>\n",
              "      <td>0.0</td>\n",
              "      <td>0.008390</td>\n",
              "      <td>0.0</td>\n",
              "      <td>...</td>\n",
              "      <td>0.0</td>\n",
              "      <td>0.0</td>\n",
              "      <td>0.048151</td>\n",
              "      <td>0.0</td>\n",
              "      <td>0.0</td>\n",
              "      <td>0.0</td>\n",
              "      <td>0.0</td>\n",
              "      <td>0.0</td>\n",
              "      <td>0.0</td>\n",
              "      <td>0.0</td>\n",
              "    </tr>\n",
              "  </tbody>\n",
              "</table>\n",
              "<p>5 rows × 4433 columns</p>\n",
              "</div>\n",
              "      <button class=\"colab-df-convert\" onclick=\"convertToInteractive('df-89bff45e-e3ac-4306-bec6-6f3a10081630')\"\n",
              "              title=\"Convert this dataframe to an interactive table.\"\n",
              "              style=\"display:none;\">\n",
              "        \n",
              "  <svg xmlns=\"http://www.w3.org/2000/svg\" height=\"24px\"viewBox=\"0 0 24 24\"\n",
              "       width=\"24px\">\n",
              "    <path d=\"M0 0h24v24H0V0z\" fill=\"none\"/>\n",
              "    <path d=\"M18.56 5.44l.94 2.06.94-2.06 2.06-.94-2.06-.94-.94-2.06-.94 2.06-2.06.94zm-11 1L8.5 8.5l.94-2.06 2.06-.94-2.06-.94L8.5 2.5l-.94 2.06-2.06.94zm10 10l.94 2.06.94-2.06 2.06-.94-2.06-.94-.94-2.06-.94 2.06-2.06.94z\"/><path d=\"M17.41 7.96l-1.37-1.37c-.4-.4-.92-.59-1.43-.59-.52 0-1.04.2-1.43.59L10.3 9.45l-7.72 7.72c-.78.78-.78 2.05 0 2.83L4 21.41c.39.39.9.59 1.41.59.51 0 1.02-.2 1.41-.59l7.78-7.78 2.81-2.81c.8-.78.8-2.07 0-2.86zM5.41 20L4 18.59l7.72-7.72 1.47 1.35L5.41 20z\"/>\n",
              "  </svg>\n",
              "      </button>\n",
              "      \n",
              "  <style>\n",
              "    .colab-df-container {\n",
              "      display:flex;\n",
              "      flex-wrap:wrap;\n",
              "      gap: 12px;\n",
              "    }\n",
              "\n",
              "    .colab-df-convert {\n",
              "      background-color: #E8F0FE;\n",
              "      border: none;\n",
              "      border-radius: 50%;\n",
              "      cursor: pointer;\n",
              "      display: none;\n",
              "      fill: #1967D2;\n",
              "      height: 32px;\n",
              "      padding: 0 0 0 0;\n",
              "      width: 32px;\n",
              "    }\n",
              "\n",
              "    .colab-df-convert:hover {\n",
              "      background-color: #E2EBFA;\n",
              "      box-shadow: 0px 1px 2px rgba(60, 64, 67, 0.3), 0px 1px 3px 1px rgba(60, 64, 67, 0.15);\n",
              "      fill: #174EA6;\n",
              "    }\n",
              "\n",
              "    [theme=dark] .colab-df-convert {\n",
              "      background-color: #3B4455;\n",
              "      fill: #D2E3FC;\n",
              "    }\n",
              "\n",
              "    [theme=dark] .colab-df-convert:hover {\n",
              "      background-color: #434B5C;\n",
              "      box-shadow: 0px 1px 3px 1px rgba(0, 0, 0, 0.15);\n",
              "      filter: drop-shadow(0px 1px 2px rgba(0, 0, 0, 0.3));\n",
              "      fill: #FFFFFF;\n",
              "    }\n",
              "  </style>\n",
              "\n",
              "      <script>\n",
              "        const buttonEl =\n",
              "          document.querySelector('#df-89bff45e-e3ac-4306-bec6-6f3a10081630 button.colab-df-convert');\n",
              "        buttonEl.style.display =\n",
              "          google.colab.kernel.accessAllowed ? 'block' : 'none';\n",
              "\n",
              "        async function convertToInteractive(key) {\n",
              "          const element = document.querySelector('#df-89bff45e-e3ac-4306-bec6-6f3a10081630');\n",
              "          const dataTable =\n",
              "            await google.colab.kernel.invokeFunction('convertToInteractive',\n",
              "                                                     [key], {});\n",
              "          if (!dataTable) return;\n",
              "\n",
              "          const docLinkHtml = 'Like what you see? Visit the ' +\n",
              "            '<a target=\"_blank\" href=https://colab.research.google.com/notebooks/data_table.ipynb>data table notebook</a>'\n",
              "            + ' to learn more about interactive tables.';\n",
              "          element.innerHTML = '';\n",
              "          dataTable['output_type'] = 'display_data';\n",
              "          await google.colab.output.renderOutput(dataTable, element);\n",
              "          const docLink = document.createElement('div');\n",
              "          docLink.innerHTML = docLinkHtml;\n",
              "          element.appendChild(docLink);\n",
              "        }\n",
              "      </script>\n",
              "    </div>\n",
              "  </div>\n",
              "  "
            ]
          },
          "metadata": {},
          "execution_count": 31
        }
      ]
    },
    {
      "cell_type": "code",
      "source": [
        "X = df.iloc[:,9:]\n",
        "y = df['class.labels']"
      ],
      "metadata": {
        "id": "3Z5IWpx2Gpsz"
      },
      "execution_count": null,
      "outputs": []
    },
    {
      "cell_type": "code",
      "source": [
        "pca = PCA(n_components=10)\n",
        "X_pca = pca.fit_transform(X.values)"
      ],
      "metadata": {
        "id": "vCVwG5WpHTck"
      },
      "execution_count": null,
      "outputs": []
    },
    {
      "cell_type": "code",
      "source": [
        "params = {'n_neighbors': [1, 3, 5, 7]}\n",
        "knn_grid_search = GridSearchCV(knn, param_grid=params, cv=10, scoring='accuracy')\n",
        "\n",
        "knn_grid_search.fit(X_pca, y)"
      ],
      "metadata": {
        "colab": {
          "base_uri": "https://localhost:8080/"
        },
        "id": "_aaQqehzqoTd",
        "outputId": "2b152c10-6d33-4430-9492-b069357265e4"
      },
      "execution_count": null,
      "outputs": [
        {
          "output_type": "execute_result",
          "data": {
            "text/plain": [
              "GridSearchCV(cv=10, estimator=KNeighborsClassifier(),\n",
              "             param_grid={'n_neighbors': [1, 3, 5, 7]}, scoring='accuracy')"
            ]
          },
          "metadata": {},
          "execution_count": 34
        }
      ]
    },
    {
      "cell_type": "code",
      "source": [
        "knn_grid_results = knn_grid_search.cv_results_\n",
        "for mean_test_score, params in zip(knn_grid_results['mean_test_score'], knn_grid_results['params']):\n",
        "  print(f\"accuracy: {mean_test_score} for {params}\")"
      ],
      "metadata": {
        "colab": {
          "base_uri": "https://localhost:8080/"
        },
        "id": "PCyRvGRJrerE",
        "outputId": "a7377195-86c4-4eb1-e046-8855637b4f30"
      },
      "execution_count": null,
      "outputs": [
        {
          "output_type": "stream",
          "name": "stdout",
          "text": [
            "accuracy: 0.8518181818181819 for {'n_neighbors': 1}\n",
            "accuracy: 0.8699999999999999 for {'n_neighbors': 3}\n",
            "accuracy: 0.9099999999999999 for {'n_neighbors': 5}\n",
            "accuracy: 0.8618181818181819 for {'n_neighbors': 7}\n"
          ]
        }
      ]
    },
    {
      "cell_type": "code",
      "source": [
        "# p=1 -> Taxi,   p=2 -> Euklidesowa\n",
        "params = {'weights': ['uniform', 'distance'],\n",
        "          'p': [1, 2]}\n",
        "          \n",
        "knn_grid_search = GridSearchCV(knn, param_grid=params, cv=10, scoring='accuracy')         \n",
        "knn_grid_search.fit(X_pca, y)"
      ],
      "metadata": {
        "colab": {
          "base_uri": "https://localhost:8080/"
        },
        "id": "QMzztHaap_O6",
        "outputId": "e8ff92dd-5d2e-439b-cd65-a2be061abeea"
      },
      "execution_count": null,
      "outputs": [
        {
          "output_type": "execute_result",
          "data": {
            "text/plain": [
              "GridSearchCV(cv=10, estimator=KNeighborsClassifier(),\n",
              "             param_grid={'p': [1, 2], 'weights': ['uniform', 'distance']},\n",
              "             scoring='accuracy')"
            ]
          },
          "metadata": {},
          "execution_count": 36
        }
      ]
    },
    {
      "cell_type": "code",
      "source": [
        "knn_grid_results = knn_grid_search.cv_results_\n",
        "for mean_test_score, params in zip(knn_grid_results['mean_test_score'], knn_grid_results['params']):\n",
        "  print(f\"accuracy: {mean_test_score} for {params}\")"
      ],
      "metadata": {
        "colab": {
          "base_uri": "https://localhost:8080/"
        },
        "id": "SDk_a822vFuv",
        "outputId": "25b0a671-a192-4ffa-ea23-98ba88e6251e"
      },
      "execution_count": null,
      "outputs": [
        {
          "output_type": "stream",
          "name": "stdout",
          "text": [
            "accuracy: 0.8618181818181819 for {'p': 1, 'weights': 'uniform'}\n",
            "accuracy: 0.8718181818181818 for {'p': 1, 'weights': 'distance'}\n",
            "accuracy: 0.9099999999999999 for {'p': 2, 'weights': 'uniform'}\n",
            "accuracy: 0.9200000000000002 for {'p': 2, 'weights': 'distance'}\n"
          ]
        }
      ]
    },
    {
      "cell_type": "markdown",
      "source": [
        "Najwyższą dokładność osiąga model z zastosowaną Euklidesową miarą odległości. Natomiast najmniejszą dokładnością cechuje sie klasyfikator z zastosowaną miarą odległości Taxi i wagą uniform."
      ],
      "metadata": {
        "id": "vQOJc8AjBSZC"
      }
    },
    {
      "cell_type": "markdown",
      "source": [
        "#**Implementacja KD-tree**"
      ],
      "metadata": {
        "id": "UgqoObVYSSNw"
      }
    },
    {
      "cell_type": "code",
      "source": [
        "class KDNode:\n",
        "\n",
        "  def __init__(self, left=None, right=None, content=None, depth=0):\n",
        "    self.left = left\n",
        "    self.right = right\n",
        "    self.content = content\n",
        "    self.depth = depth\n",
        "\n",
        "  def create(data, depth=0):\n",
        "    if len(data) <= 0: \n",
        "      return None\n",
        "    else:\n",
        "        x, y = np.shape(data)\n",
        "        median_i = int(x / 2)\n",
        "        target_axis = depth % y\n",
        "        sort_data = data[np.argsort(data[:, target_axis])]\n",
        "        node = KDNode(content=sort_data[median_i], depth=depth)\n",
        "        node.left = KDNode.create(sort_data[: median_i], depth=depth+1)\n",
        "        node.right = KDNode.create(sort_data[median_i+1:], depth=depth+1)\n",
        "        return node\n",
        "\n",
        "  def calculate_distance(self, target_point):\n",
        "    distance = np.power(self.content - np.array(target_point), 2).sum() ** 0.5\n",
        "    return distance"
      ],
      "metadata": {
        "id": "xT8wcmHgSpHu"
      },
      "execution_count": null,
      "outputs": []
    },
    {
      "cell_type": "code",
      "source": [
        "class KDTree:\n",
        "\n",
        "    def __init__(self, data):\n",
        "        self.root = KDNode.create(data)\n",
        "\n",
        "    def search(self, sample, n_neighbors):\n",
        "        stack = []\n",
        "        nearest_nodes = []\n",
        "        nearest_distances = []\n",
        "        target_node = self.root\n",
        "\n",
        "        while target_node:\n",
        "            stack.append(target_node)\n",
        "            distance = target_node.calculate_distance(sample)\n",
        "            if len(nearest_nodes) < n_neighbors:\n",
        "                nearest_nodes.append(target_node)\n",
        "                nearest_distances.append(distance)\n",
        "            else:\n",
        "                max_distance = max(nearest_distances)\n",
        "                if distance < max_distance:\n",
        "                    del_index = nearest_distances.index(max_distance)\n",
        "                    del(nearest_distances[del_index])\n",
        "                    del(nearest_nodes[del_index])\n",
        "                    nearest_nodes.append(target_node)\n",
        "                    nearest_distances.append(distance)\n",
        "            axis = target_node.depth % len(sample)\n",
        "            if sample[axis] < target_node.content[axis]:\n",
        "                target_node = target_node.left\n",
        "            else:\n",
        "                target_node = target_node.right\n",
        "\n",
        "        while stack:\n",
        "            current_node = stack.pop()\n",
        "            current_distance = current_node.calculate_distance(sample)\n",
        "            max_distance = max(nearest_distances)\n",
        "            axis = current_node.depth % len(sample)\n",
        "            if len(nearest_nodes) < n_neighbors or abs(sample[axis] - current_node.content[axis]) < max_distance:\n",
        "                if sample[axis] < current_node.content[axis]:\n",
        "                    target_node = current_node.right\n",
        "                else:\n",
        "                    target_node = current_node.left\n",
        "                if target_node:\n",
        "                    stack.append(target_node)\n",
        "                    distance = target_node.calculate_distance(sample)\n",
        "                    if len(nearest_nodes) < n_neighbors:\n",
        "                        nearest_nodes.append(target_node)\n",
        "                        nearest_distances.append(distance)\n",
        "                    else:\n",
        "                        if distance < max_distance:\n",
        "                            del_index = nearest_distances.index(max_distance)\n",
        "                            del (nearest_nodes[del_index])\n",
        "                            del (nearest_distances[del_index])\n",
        "                            nearest_nodes.append(target_node)\n",
        "                            nearest_distances.append(distance)\n",
        "\n",
        "        nearest_points = [nearest_node.content.tolist() for nearest_node in nearest_nodes]\n",
        "\n",
        "        return nearest_points, nearest_distances"
      ],
      "metadata": {
        "id": "VccTcSHM46MN"
      },
      "execution_count": null,
      "outputs": []
    },
    {
      "cell_type": "markdown",
      "source": [
        "**testowanie KD-tree**"
      ],
      "metadata": {
        "id": "JXvLmGlvS7SQ"
      }
    },
    {
      "cell_type": "code",
      "source": [
        "data = np.random.randint(12, size=(7, 2))\n",
        "kd_tree = KDTree(data)\n",
        "\n",
        "test_sample = [5, 7]\n",
        "sample = [float(i) for i in test_sample]\n",
        "n_neighbors = 5\n",
        "\n",
        "n_points, n_distances = kd_tree.search(sample, n_neighbors)\n",
        "print(f\"Data: {data}\")\n",
        "print(f\"Nearest points: {n_points}\")\n",
        "print(f\"Nearest distances: {n_distances}\")"
      ],
      "metadata": {
        "colab": {
          "base_uri": "https://localhost:8080/"
        },
        "id": "j-We4SANLxkx",
        "outputId": "06237f4f-f1a8-4361-d3bd-b6f3cb56a681"
      },
      "execution_count": null,
      "outputs": [
        {
          "output_type": "stream",
          "name": "stdout",
          "text": [
            "Data: [[ 2  4]\n",
            " [ 0  0]\n",
            " [ 2  4]\n",
            " [ 4 10]\n",
            " [ 4  2]\n",
            " [10  1]\n",
            " [ 1  4]]\n",
            "Nearest points: [[2, 4], [4, 2], [4, 10], [10, 1], [1, 4]]\n",
            "Nearest distances: [4.242640687119285, 5.0990195135927845, 3.1622776601683795, 7.810249675906654, 5.0]\n"
          ]
        }
      ]
    },
    {
      "cell_type": "code",
      "source": [
        ""
      ],
      "metadata": {
        "id": "PFPVKmMXRQi2"
      },
      "execution_count": null,
      "outputs": []
    }
  ]
}